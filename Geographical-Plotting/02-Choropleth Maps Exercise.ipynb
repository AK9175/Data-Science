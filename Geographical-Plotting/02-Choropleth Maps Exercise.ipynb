{
 "cells": [
  {
   "cell_type": "markdown",
   "metadata": {},
   "source": [
    "___\n",
    "\n",
    "<a href='http://www.pieriandata.com'> <img src='../Pierian_Data_Logo.png' /></a>\n",
    "___"
   ]
  },
  {
   "cell_type": "markdown",
   "metadata": {},
   "source": [
    "# Choropleth Maps Exercise \n",
    "\n",
    "Welcome to the Choropleth Maps Exercise! In this exercise we will give you some simple datasets and ask you to create Choropleth Maps from them. Due to the Nature of Plotly we can't show you examples\n",
    "\n",
    "[Full Documentation Reference](https://plot.ly/python/reference/#choropleth)\n",
    "\n",
    "## Plotly Imports"
   ]
  },
  {
   "cell_type": "code",
   "execution_count": 1,
   "metadata": {},
   "outputs": [
    {
     "data": {
      "text/html": [
       "        <script type=\"text/javascript\">\n",
       "        window.PlotlyConfig = {MathJaxConfig: 'local'};\n",
       "        if (window.MathJax) {MathJax.Hub.Config({SVG: {font: \"STIX-Web\"}});}\n",
       "        if (typeof require !== 'undefined') {\n",
       "        require.undef(\"plotly\");\n",
       "        requirejs.config({\n",
       "            paths: {\n",
       "                'plotly': ['https://cdn.plot.ly/plotly-latest.min']\n",
       "            }\n",
       "        });\n",
       "        require(['plotly'], function(Plotly) {\n",
       "            window._Plotly = Plotly;\n",
       "        });\n",
       "        }\n",
       "        </script>\n",
       "        "
      ]
     },
     "metadata": {},
     "output_type": "display_data"
    }
   ],
   "source": [
    "import plotly.graph_objs as go \n",
    "from plotly.offline import init_notebook_mode,iplot\n",
    "init_notebook_mode(connected=True) "
   ]
  },
  {
   "cell_type": "markdown",
   "metadata": {},
   "source": [
    "** Import pandas and read the csv file: 2014_World_Power_Consumption**"
   ]
  },
  {
   "cell_type": "code",
   "execution_count": 3,
   "metadata": {},
   "outputs": [],
   "source": [
    "import pandas as pd\n",
    "df = pd.read_csv('2014_World_Power_Consumption')"
   ]
  },
  {
   "cell_type": "code",
   "execution_count": 152,
   "metadata": {},
   "outputs": [],
   "source": []
  },
  {
   "cell_type": "markdown",
   "metadata": {},
   "source": [
    "** Check the head of the DataFrame. **"
   ]
  },
  {
   "cell_type": "code",
   "execution_count": 4,
   "metadata": {},
   "outputs": [
    {
     "data": {
      "text/html": [
       "<div>\n",
       "<style scoped>\n",
       "    .dataframe tbody tr th:only-of-type {\n",
       "        vertical-align: middle;\n",
       "    }\n",
       "\n",
       "    .dataframe tbody tr th {\n",
       "        vertical-align: top;\n",
       "    }\n",
       "\n",
       "    .dataframe thead th {\n",
       "        text-align: right;\n",
       "    }\n",
       "</style>\n",
       "<table border=\"1\" class=\"dataframe\">\n",
       "  <thead>\n",
       "    <tr style=\"text-align: right;\">\n",
       "      <th></th>\n",
       "      <th>Country</th>\n",
       "      <th>Power Consumption KWH</th>\n",
       "      <th>Text</th>\n",
       "    </tr>\n",
       "  </thead>\n",
       "  <tbody>\n",
       "    <tr>\n",
       "      <th>0</th>\n",
       "      <td>China</td>\n",
       "      <td>5.523000e+12</td>\n",
       "      <td>China 5,523,000,000,000</td>\n",
       "    </tr>\n",
       "    <tr>\n",
       "      <th>1</th>\n",
       "      <td>United States</td>\n",
       "      <td>3.832000e+12</td>\n",
       "      <td>United 3,832,000,000,000</td>\n",
       "    </tr>\n",
       "    <tr>\n",
       "      <th>2</th>\n",
       "      <td>European</td>\n",
       "      <td>2.771000e+12</td>\n",
       "      <td>European 2,771,000,000,000</td>\n",
       "    </tr>\n",
       "    <tr>\n",
       "      <th>3</th>\n",
       "      <td>Russia</td>\n",
       "      <td>1.065000e+12</td>\n",
       "      <td>Russia 1,065,000,000,000</td>\n",
       "    </tr>\n",
       "    <tr>\n",
       "      <th>4</th>\n",
       "      <td>Japan</td>\n",
       "      <td>9.210000e+11</td>\n",
       "      <td>Japan 921,000,000,000</td>\n",
       "    </tr>\n",
       "    <tr>\n",
       "      <th>...</th>\n",
       "      <td>...</td>\n",
       "      <td>...</td>\n",
       "      <td>...</td>\n",
       "    </tr>\n",
       "    <tr>\n",
       "      <th>214</th>\n",
       "      <td>Saint</td>\n",
       "      <td>7.440000e+06</td>\n",
       "      <td>Saint 7,440,000</td>\n",
       "    </tr>\n",
       "    <tr>\n",
       "      <th>215</th>\n",
       "      <td>Niue</td>\n",
       "      <td>2.790000e+06</td>\n",
       "      <td>Niue 2,790,000</td>\n",
       "    </tr>\n",
       "    <tr>\n",
       "      <th>216</th>\n",
       "      <td>Gaza</td>\n",
       "      <td>2.020000e+05</td>\n",
       "      <td>Gaza 202,000</td>\n",
       "    </tr>\n",
       "    <tr>\n",
       "      <th>217</th>\n",
       "      <td>Malta</td>\n",
       "      <td>1.747000e+05</td>\n",
       "      <td>Malta 174,700</td>\n",
       "    </tr>\n",
       "    <tr>\n",
       "      <th>218</th>\n",
       "      <td>Northern</td>\n",
       "      <td>4.830000e+04</td>\n",
       "      <td>Northern 48,300</td>\n",
       "    </tr>\n",
       "  </tbody>\n",
       "</table>\n",
       "<p>219 rows × 3 columns</p>\n",
       "</div>"
      ],
      "text/plain": [
       "           Country  Power Consumption KWH                        Text\n",
       "0            China           5.523000e+12     China 5,523,000,000,000\n",
       "1    United States           3.832000e+12    United 3,832,000,000,000\n",
       "2         European           2.771000e+12  European 2,771,000,000,000\n",
       "3           Russia           1.065000e+12    Russia 1,065,000,000,000\n",
       "4            Japan           9.210000e+11       Japan 921,000,000,000\n",
       "..             ...                    ...                         ...\n",
       "214          Saint           7.440000e+06             Saint 7,440,000\n",
       "215           Niue           2.790000e+06              Niue 2,790,000\n",
       "216           Gaza           2.020000e+05                Gaza 202,000\n",
       "217          Malta           1.747000e+05               Malta 174,700\n",
       "218       Northern           4.830000e+04             Northern 48,300\n",
       "\n",
       "[219 rows x 3 columns]"
      ]
     },
     "execution_count": 4,
     "metadata": {},
     "output_type": "execute_result"
    }
   ],
   "source": [
    "df"
   ]
  },
  {
   "cell_type": "markdown",
   "metadata": {},
   "source": [
    "** Referencing the lecture notes, create a Choropleth Plot of the Power Consumption for Countries using the data and layout dictionary. **"
   ]
  },
  {
   "cell_type": "code",
   "execution_count": 5,
   "metadata": {},
   "outputs": [],
   "source": [
    "data = dict(type='choropleth',\n",
    "            locations=df['Country'],\n",
    "            locationmode = 'country names',\n",
    "            z=df['Power Consumption KWH'],\n",
    "            text = df['Text'],\n",
    "            colorbar={'title':'World-Electricity-Consumption(KWH)'})"
   ]
  },
  {
   "cell_type": "code",
   "execution_count": 6,
   "metadata": {},
   "outputs": [
    {
     "data": {
      "text/plain": [
       "{'type': 'choropleth',\n",
       " 'locations': 0              China\n",
       " 1      United States\n",
       " 2           European\n",
       " 3             Russia\n",
       " 4              Japan\n",
       "            ...      \n",
       " 214            Saint\n",
       " 215             Niue\n",
       " 216             Gaza\n",
       " 217            Malta\n",
       " 218         Northern\n",
       " Name: Country, Length: 219, dtype: object,\n",
       " 'locationmode': 'country names',\n",
       " 'z': 0      5.523000e+12\n",
       " 1      3.832000e+12\n",
       " 2      2.771000e+12\n",
       " 3      1.065000e+12\n",
       " 4      9.210000e+11\n",
       "            ...     \n",
       " 214    7.440000e+06\n",
       " 215    2.790000e+06\n",
       " 216    2.020000e+05\n",
       " 217    1.747000e+05\n",
       " 218    4.830000e+04\n",
       " Name: Power Consumption KWH, Length: 219, dtype: float64,\n",
       " 'text': 0         China 5,523,000,000,000\n",
       " 1        United 3,832,000,000,000\n",
       " 2      European 2,771,000,000,000\n",
       " 3        Russia 1,065,000,000,000\n",
       " 4           Japan 921,000,000,000\n",
       "                   ...            \n",
       " 214               Saint 7,440,000\n",
       " 215                Niue 2,790,000\n",
       " 216                  Gaza 202,000\n",
       " 217                 Malta 174,700\n",
       " 218               Northern 48,300\n",
       " Name: Text, Length: 219, dtype: object,\n",
       " 'colorbar': {'title': 'World-Electricity-Consumption(KWH)'}}"
      ]
     },
     "execution_count": 6,
     "metadata": {},
     "output_type": "execute_result"
    }
   ],
   "source": [
    "data"
   ]
  },
  {
   "cell_type": "code",
   "execution_count": 7,
   "metadata": {},
   "outputs": [],
   "source": [
    "layout = dict(geo = {'scope':'world'})"
   ]
  },
  {
   "cell_type": "code",
   "execution_count": 8,
   "metadata": {},
   "outputs": [
    {
     "data": {
      "application/vnd.plotly.v1+json": {
       "config": {
        "linkText": "Export to plot.ly",
        "plotlyServerURL": "https://plot.ly",
        "showLink": false
       },
       "data": [
        {
         "colorbar": {
          "title": {
           "text": "World-Electricity-Consumption(KWH)"
          }
         },
         "locationmode": "country names",
         "locations": [
          "China",
          "United States",
          "European",
          "Russia",
          "Japan",
          "India",
          "Germany",
          "Canada",
          "Brazil",
          "Korea,",
          "France",
          "United Kingdom",
          "Italy",
          "Taiwan",
          "Spain",
          "Mexico",
          "Saudi",
          "Australia",
          "South",
          "Turkey",
          "Iran",
          "Indonesia",
          "Ukraine",
          "Thailand",
          "Poland",
          "Egypt",
          "Sweden",
          "Norway",
          "Malaysia",
          "Argentina",
          "Netherlands",
          "Vietnam",
          "Venezuela",
          "United Arab Emirates",
          "Finland",
          "Belgium",
          "Kazakhstan",
          "Pakistan",
          "Philippines",
          "Austria",
          "Chile",
          "Czechia",
          "Israel",
          "Switzerland",
          "Greece",
          "Iraq",
          "Romania",
          "Kuwait",
          "Colombia",
          "Singapore",
          "Portugal",
          "Uzbekistan",
          "Hong",
          "Algeria",
          "Bangladesh",
          "New",
          "Bulgaria",
          "Belarus",
          "Peru",
          "Denmark",
          "Qatar",
          "Slovakia",
          "Libya",
          "Serbia",
          "Morocco",
          "Syria",
          "Nigeria",
          "Ireland",
          "Hungary",
          "Oman",
          "Ecuador",
          "Puerto",
          "Azerbaijan",
          "Croatia",
          "Iceland",
          "Cuba",
          "Korea,",
          "Dominican",
          "Jordan",
          "Tajikistan",
          "Tunisia",
          "Slovenia",
          "Lebanon",
          "Bosnia",
          "Turkmenistan",
          "Bahrain",
          "Mozambique",
          "Ghana",
          "Sri",
          "Kyrgyzstan",
          "Lithuania",
          "Uruguay",
          "Costa",
          "Guatemala",
          "Georgia",
          "Trinidad",
          "Zambia",
          "Paraguay",
          "Albania",
          "Burma",
          "Estonia",
          "Congo,",
          "Panama",
          "Latvia",
          "Macedonia",
          "Zimbabwe",
          "Kenya",
          "Bolivia",
          "Luxembourg",
          "Sudan",
          "El",
          "Cameroon",
          "West",
          "Ethiopia",
          "Armenia",
          "Honduras",
          "Angola",
          "Cote",
          "Tanzania",
          "Nicaragua",
          "Moldova",
          "Cyprus",
          "Macau",
          "Namibia",
          "Mongolia",
          "Afghanistan",
          "Yemen",
          "Brunei",
          "Cambodia",
          "Montenegro",
          "Nepal",
          "Botswana",
          "Papua",
          "Jamaica",
          "Kosovo",
          "Laos",
          "Uganda",
          "New",
          "Mauritius",
          "Senegal",
          "Bhutan",
          "Malawi",
          "Madagascar",
          "Bahamas,",
          "Gabon",
          "Suriname",
          "Guam",
          "Liechtenstein",
          "Swaziland",
          "Burkina",
          "Togo",
          "Curacao",
          "Mauritania",
          "Barbados",
          "Niger",
          "Aruba",
          "Benin",
          "Guinea",
          "Mali",
          "Fiji",
          "Congo,",
          "Virgin",
          "Lesotho",
          "South",
          "Bermuda",
          "French",
          "Jersey",
          "Belize",
          "Andorra",
          "Guyana",
          "Cayman",
          "Haiti",
          "Rwanda",
          "Saint",
          "Djibouti",
          "Seychelles",
          "Somalia",
          "Antigua",
          "Greenland",
          "Cabo",
          "Eritrea",
          "Burundi",
          "Liberia",
          "Maldives",
          "Faroe",
          "Gambia,",
          "Chad",
          "Micronesia,",
          "Grenada",
          "Central",
          "Turks",
          "Gibraltar",
          "American",
          "Sierra",
          "Saint",
          "Saint",
          "Timor-Leste",
          "Equatorial",
          "Samoa",
          "Dominica",
          "Western",
          "Solomon",
          "Sao",
          "British",
          "Vanuatu",
          "Guinea-Bissau",
          "Tonga",
          "Saint",
          "Comoros",
          "Cook",
          "Kiribati",
          "Montserrat",
          "Nauru",
          "Falkland",
          "Saint",
          "Niue",
          "Gaza",
          "Malta",
          "Northern"
         ],
         "text": [
          "China 5,523,000,000,000",
          "United 3,832,000,000,000",
          "European 2,771,000,000,000",
          "Russia 1,065,000,000,000",
          "Japan 921,000,000,000",
          "India 864,700,000,000",
          "Germany 540,100,000,000",
          "Canada 511,000,000,000",
          "Brazil 483,500,000,000",
          "Korea, 482,400,000,000",
          "France 451,100,000,000",
          "United 319,100,000,000",
          "Italy 303,100,000,000",
          "Taiwan 249,500,000,000",
          "Spain 243,100,000,000",
          "Mexico 234,000,000,000",
          "Saudi 231,600,000,000",
          "Australia 222,600,000,000",
          "South 211,600,000,000",
          "Turkey 197,000,000,000",
          "Iran 195,300,000,000",
          "Indonesia 167,500,000,000",
          "Ukraine 159,800,000,000",
          "Thailand 155,900,000,000",
          "Poland 139,000,000,000",
          "Egypt 135,600,000,000",
          "Sweden 130,500,000,000",
          "Norway 126,400,000,000",
          "Malaysia 118,500,000,000",
          "Argentina 117,100,000,000",
          "Netherlands 116,800,000,000",
          "Vietnam 108,300,000,000",
          "Venezuela 97,690,000,000",
          "United 93,280,000,000",
          "Finland 82,040,000,000",
          "Belgium 81,890,000,000",
          "Kazakhstan 80,290,000,000",
          "Pakistan 78,890,000,000",
          "Philippines 75,270,000,000",
          "Austria 69,750,000,000",
          "Chile 63,390,000,000",
          "Czechia 60,550,000,000",
          "Israel 59,830,000,000",
          "Switzerland 58,010,000,000",
          "Greece 57,730,000,000",
          "Iraq 53,410,000,000",
          "Romania 50,730,000,000",
          "Kuwait 50,000,000,000",
          "Colombia 49,380,000,000",
          "Singapore 47,180,000,000",
          "Portugal 46,250,000,000",
          "Uzbekistan 45,210,000,000",
          "Hong 44,210,000,000",
          "Algeria 42,870,000,000",
          "Bangladesh 41,520,000,000",
          "New 40,300,000,000",
          "Bulgaria 37,990,000,000",
          "Belarus 37,880,000,000",
          "Peru 35,690,000,000",
          "Denmark 31,960,000,000",
          "Qatar 30,530,000,000",
          "Slovakia 28,360,000,000",
          "Libya 27,540,000,000",
          "Serbia 26,910,000,000",
          "Morocco 26,700,000,000",
          "Syria 25,700,000,000",
          "Nigeria 24,780,000,000",
          "Ireland 24,240,000,000",
          "Hungary 21,550,000,000",
          "Oman 20,360,000,000",
          "Ecuador 19,020,000,000",
          "Puerto 18,620,000,000",
          "Azerbaijan 17,790,000,000",
          "Croatia 16,970,000,000",
          "Iceland 16,940,000,000",
          "Cuba 16,200,000,000",
          "Korea, 16,000,000,000",
          "Dominican 15,140,000,000",
          "Jordan 14,560,000,000",
          "Tajikistan 14,420,000,000",
          "Tunisia 13,310,000,000",
          "Slovenia 13,020,000,000",
          "Lebanon 12,940,000,000",
          "Bosnia 12,560,000,000",
          "Turkmenistan 11,750,000,000",
          "Bahrain 11,690,000,000",
          "Mozambique 11,280,000,000",
          "Ghana 10,580,000,000",
          "Sri 10,170,000,000",
          "Kyrgyzstan 9,943,000,000",
          "Lithuania 9,664,000,000",
          "Uruguay 9,559,000,000",
          "Costa 8,987,000,000",
          "Guatemala 8,915,000,000",
          "Georgia 8,468,000,000",
          "Trinidad 8,365,000,000",
          "Zambia 8,327,000,000",
          "Paraguay 8,125,000,000",
          "Albania 7,793,000,000",
          "Burma 7,765,000,000",
          "Estonia 7,417,000,000",
          "Congo, 7,292,000,000",
          "Panama 7,144,000,000",
          "Latvia 7,141,000,000",
          "Macedonia 6,960,000,000",
          "Zimbabwe 6,831,000,000",
          "Kenya 6,627,000,000",
          "Bolivia 6,456,000,000",
          "Luxembourg 6,108,000,000",
          "Sudan 5,665,000,000",
          "El 5,665,000,000",
          "Cameroon 5,535,000,000",
          "West 5,312,000,000",
          "Ethiopia 5,227,000,000",
          "Armenia 5,043,000,000",
          "Honduras 5,036,000,000",
          "Angola 4,842,000,000",
          "Cote 4,731,000,000",
          "Tanzania 4,545,000,000",
          "Nicaragua 4,412,000,000",
          "Moldova 4,305,000,000",
          "Cyprus 4,296,000,000",
          "Macau 4,291,000,000",
          "Namibia 4,238,000,000",
          "Mongolia 4,204,000,000",
          "Afghanistan 3,893,000,000",
          "Yemen 3,838,000,000",
          "Brunei 3,766,000,000",
          "Cambodia 3,553,000,000",
          "Montenegro 3,465,000,000",
          "Nepal 3,239,000,000",
          "Botswana 3,213,000,000",
          "Papua 3,116,000,000",
          "Jamaica 3,008,000,000",
          "Kosovo 2,887,000,000",
          "Laos 2,874,000,000",
          "Uganda 2,821,000,000",
          "New 2,716,000,000",
          "Mauritius 2,658,000,000",
          "Senegal 2,586,000,000",
          "Bhutan 2,085,000,000",
          "Malawi 2,027,000,000",
          "Madagascar 1,883,000,000",
          "Bahamas, 1,716,000,000",
          "Gabon 1,680,000,000",
          "Suriname 1,572,000,000",
          "Guam 1,566,000,000",
          "Liechtenstein 1,360,000,000",
          "Swaziland 1,295,000,000",
          "Burkina 985,500,000",
          "Togo 976,000,000",
          "Curacao 968,000,000",
          "Mauritania 962,600,000",
          "Barbados 938,000,000",
          "Niger 930,200,000",
          "Aruba 920,700,000",
          "Benin 911,000,000",
          "Guinea 903,000,000",
          "Mali 882,600,000",
          "Fiji 777,600,000",
          "Congo, 740,000,000",
          "Virgin 723,500,000",
          "Lesotho 707,000,000",
          "South 694,100,000",
          "Bermuda 664,200,000",
          "French 652,900,000",
          "Jersey 630,100,000",
          "Belize 605,000,000",
          "Andorra 562,400,000",
          "Guyana 558,000,000",
          "Cayman 545,900,000",
          "Haiti 452,000,000",
          "Rwanda 365,500,000",
          "Saint 336,400,000",
          "Djibouti 311,600,000",
          "Seychelles 293,900,000",
          "Somalia 293,000,000",
          "Antigua 293,000,000",
          "Greenland 292,000,000",
          "Cabo 285,500,000",
          "Eritrea 284,000,000",
          "Burundi 282,900,000",
          "Liberia 276,900,000",
          "Maldives 267,100,000",
          "Faroe 261,300,000",
          "Gambia, 218,600,000",
          "Chad 190,700,000",
          "Micronesia, 178,600,000",
          "Grenada 178,000,000",
          "Central 168,300,000",
          "Turks 167,400,000",
          "Gibraltar 160,000,000",
          "American 146,000,000",
          "Sierra 134,900,000",
          "Saint 130,200,000",
          "Saint 127,400,000",
          "Timor-Leste 125,300,000",
          "Equatorial 93,000,000",
          "Samoa 90,400,000",
          "Dominica 89,750,000",
          "Western 83,700,000",
          "Solomon 79,050,000",
          "Sao 60,450,000",
          "British 51,150,000",
          "Vanuatu 49,290,000",
          "Guinea-Bissau 46,500,000",
          "Tonga 44,640,000",
          "Saint 39,990,000",
          "Comoros 39,990,000",
          "Cook 28,950,000",
          "Kiribati 24,180,000",
          "Montserrat 23,250,000",
          "Nauru 23,250,000",
          "Falkland 11,160,000",
          "Saint 7,440,000",
          "Niue 2,790,000",
          "Gaza 202,000",
          "Malta 174,700",
          "Northern 48,300"
         ],
         "type": "choropleth",
         "z": [
          5523000000000,
          3832000000000,
          2771000000000,
          1065000000000,
          921000000000,
          864700000000,
          540100000000,
          511000000000,
          483500000000,
          482400000000,
          451100000000,
          319100000000,
          303100000000,
          249500000000,
          243100000000,
          234000000000,
          231600000000,
          222600000000,
          211600000000,
          197000000000,
          195300000000,
          167500000000,
          159800000000,
          155900000000,
          139000000000,
          135600000000,
          130500000000,
          126400000000,
          118500000000,
          117100000000,
          116800000000,
          108300000000,
          97690000000,
          93280000000,
          82040000000,
          81890000000,
          80290000000,
          78890000000,
          75270000000,
          69750000000,
          63390000000,
          60550000000,
          59830000000,
          58010000000,
          57730000000,
          53410000000,
          50730000000,
          50000000000,
          49380000000,
          47180000000,
          46250000000,
          45210000000,
          44210000000,
          42870000000,
          41520000000,
          40300000000,
          37990000000,
          37880000000,
          35690000000,
          31960000000,
          30530000000,
          28360000000,
          27540000000,
          26910000000,
          26700000000,
          25700000000,
          24780000000,
          24240000000,
          21550000000,
          20360000000,
          19020000000,
          18620000000,
          17790000000,
          16970000000,
          16940000000,
          16200000000,
          16000000000,
          15140000000,
          14560000000,
          14420000000,
          13310000000,
          13020000000,
          12940000000,
          12560000000,
          11750000000,
          11690000000,
          11280000000,
          10580000000,
          10170000000,
          9943000000,
          9664000000,
          9559000000,
          8987000000,
          8915000000,
          8468000000,
          8365000000,
          8327000000,
          8125000000,
          7793000000,
          7765000000,
          7417000000,
          7292000000,
          7144000000,
          7141000000,
          6960000000,
          6831000000,
          6627000000,
          6456000000,
          6108000000,
          5665000000,
          5665000000,
          5535000000,
          5312000000,
          5227000000,
          5043000000,
          5036000000,
          4842000000,
          4731000000,
          4545000000,
          4412000000,
          4305000000,
          4296000000,
          4291000000,
          4238000000,
          4204000000,
          3893000000,
          3838000000,
          3766000000,
          3553000000,
          3465000000,
          3239000000,
          3213000000,
          3116000000,
          3008000000,
          2887000000,
          2874000000,
          2821000000,
          2716000000,
          2658000000,
          2586000000,
          2085000000,
          2027000000,
          1883000000,
          1716000000,
          1680000000,
          1572000000,
          1566000000,
          1360000000,
          1295000000,
          985500000,
          976000000,
          968000000,
          962600000,
          938000000,
          930200000,
          920700000,
          911000000,
          903000000,
          882600000,
          777600000,
          740000000,
          723500000,
          707000000,
          694100000,
          664200000,
          652900000,
          630100000,
          605000000,
          562400000,
          558000000,
          545900000,
          452000000,
          365500000,
          336400000,
          311600000,
          293900000,
          293000000,
          293000000,
          292000000,
          285500000,
          284000000,
          282900000,
          276900000,
          267100000,
          261300000,
          218600000,
          190700000,
          178600000,
          178000000,
          168300000,
          167400000,
          160000000,
          146000000,
          134900000,
          130200000,
          127400000,
          125300000,
          93000000,
          90400000,
          89750000,
          83700000,
          79050000,
          60450000,
          51150000,
          49290000,
          46500000,
          44640000,
          39990000,
          39990000,
          28950000,
          24180000,
          23250000,
          23250000,
          11160000,
          7440000,
          2790000,
          202000,
          174700,
          48300
         ]
        }
       ],
       "layout": {
        "geo": {
         "scope": "world"
        },
        "template": {
         "data": {
          "bar": [
           {
            "error_x": {
             "color": "#2a3f5f"
            },
            "error_y": {
             "color": "#2a3f5f"
            },
            "marker": {
             "line": {
              "color": "#E5ECF6",
              "width": 0.5
             }
            },
            "type": "bar"
           }
          ],
          "barpolar": [
           {
            "marker": {
             "line": {
              "color": "#E5ECF6",
              "width": 0.5
             }
            },
            "type": "barpolar"
           }
          ],
          "carpet": [
           {
            "aaxis": {
             "endlinecolor": "#2a3f5f",
             "gridcolor": "white",
             "linecolor": "white",
             "minorgridcolor": "white",
             "startlinecolor": "#2a3f5f"
            },
            "baxis": {
             "endlinecolor": "#2a3f5f",
             "gridcolor": "white",
             "linecolor": "white",
             "minorgridcolor": "white",
             "startlinecolor": "#2a3f5f"
            },
            "type": "carpet"
           }
          ],
          "choropleth": [
           {
            "colorbar": {
             "outlinewidth": 0,
             "ticks": ""
            },
            "type": "choropleth"
           }
          ],
          "contour": [
           {
            "colorbar": {
             "outlinewidth": 0,
             "ticks": ""
            },
            "colorscale": [
             [
              0,
              "#0d0887"
             ],
             [
              0.1111111111111111,
              "#46039f"
             ],
             [
              0.2222222222222222,
              "#7201a8"
             ],
             [
              0.3333333333333333,
              "#9c179e"
             ],
             [
              0.4444444444444444,
              "#bd3786"
             ],
             [
              0.5555555555555556,
              "#d8576b"
             ],
             [
              0.6666666666666666,
              "#ed7953"
             ],
             [
              0.7777777777777778,
              "#fb9f3a"
             ],
             [
              0.8888888888888888,
              "#fdca26"
             ],
             [
              1,
              "#f0f921"
             ]
            ],
            "type": "contour"
           }
          ],
          "contourcarpet": [
           {
            "colorbar": {
             "outlinewidth": 0,
             "ticks": ""
            },
            "type": "contourcarpet"
           }
          ],
          "heatmap": [
           {
            "colorbar": {
             "outlinewidth": 0,
             "ticks": ""
            },
            "colorscale": [
             [
              0,
              "#0d0887"
             ],
             [
              0.1111111111111111,
              "#46039f"
             ],
             [
              0.2222222222222222,
              "#7201a8"
             ],
             [
              0.3333333333333333,
              "#9c179e"
             ],
             [
              0.4444444444444444,
              "#bd3786"
             ],
             [
              0.5555555555555556,
              "#d8576b"
             ],
             [
              0.6666666666666666,
              "#ed7953"
             ],
             [
              0.7777777777777778,
              "#fb9f3a"
             ],
             [
              0.8888888888888888,
              "#fdca26"
             ],
             [
              1,
              "#f0f921"
             ]
            ],
            "type": "heatmap"
           }
          ],
          "heatmapgl": [
           {
            "colorbar": {
             "outlinewidth": 0,
             "ticks": ""
            },
            "colorscale": [
             [
              0,
              "#0d0887"
             ],
             [
              0.1111111111111111,
              "#46039f"
             ],
             [
              0.2222222222222222,
              "#7201a8"
             ],
             [
              0.3333333333333333,
              "#9c179e"
             ],
             [
              0.4444444444444444,
              "#bd3786"
             ],
             [
              0.5555555555555556,
              "#d8576b"
             ],
             [
              0.6666666666666666,
              "#ed7953"
             ],
             [
              0.7777777777777778,
              "#fb9f3a"
             ],
             [
              0.8888888888888888,
              "#fdca26"
             ],
             [
              1,
              "#f0f921"
             ]
            ],
            "type": "heatmapgl"
           }
          ],
          "histogram": [
           {
            "marker": {
             "colorbar": {
              "outlinewidth": 0,
              "ticks": ""
             }
            },
            "type": "histogram"
           }
          ],
          "histogram2d": [
           {
            "colorbar": {
             "outlinewidth": 0,
             "ticks": ""
            },
            "colorscale": [
             [
              0,
              "#0d0887"
             ],
             [
              0.1111111111111111,
              "#46039f"
             ],
             [
              0.2222222222222222,
              "#7201a8"
             ],
             [
              0.3333333333333333,
              "#9c179e"
             ],
             [
              0.4444444444444444,
              "#bd3786"
             ],
             [
              0.5555555555555556,
              "#d8576b"
             ],
             [
              0.6666666666666666,
              "#ed7953"
             ],
             [
              0.7777777777777778,
              "#fb9f3a"
             ],
             [
              0.8888888888888888,
              "#fdca26"
             ],
             [
              1,
              "#f0f921"
             ]
            ],
            "type": "histogram2d"
           }
          ],
          "histogram2dcontour": [
           {
            "colorbar": {
             "outlinewidth": 0,
             "ticks": ""
            },
            "colorscale": [
             [
              0,
              "#0d0887"
             ],
             [
              0.1111111111111111,
              "#46039f"
             ],
             [
              0.2222222222222222,
              "#7201a8"
             ],
             [
              0.3333333333333333,
              "#9c179e"
             ],
             [
              0.4444444444444444,
              "#bd3786"
             ],
             [
              0.5555555555555556,
              "#d8576b"
             ],
             [
              0.6666666666666666,
              "#ed7953"
             ],
             [
              0.7777777777777778,
              "#fb9f3a"
             ],
             [
              0.8888888888888888,
              "#fdca26"
             ],
             [
              1,
              "#f0f921"
             ]
            ],
            "type": "histogram2dcontour"
           }
          ],
          "mesh3d": [
           {
            "colorbar": {
             "outlinewidth": 0,
             "ticks": ""
            },
            "type": "mesh3d"
           }
          ],
          "parcoords": [
           {
            "line": {
             "colorbar": {
              "outlinewidth": 0,
              "ticks": ""
             }
            },
            "type": "parcoords"
           }
          ],
          "pie": [
           {
            "automargin": true,
            "type": "pie"
           }
          ],
          "scatter": [
           {
            "marker": {
             "colorbar": {
              "outlinewidth": 0,
              "ticks": ""
             }
            },
            "type": "scatter"
           }
          ],
          "scatter3d": [
           {
            "line": {
             "colorbar": {
              "outlinewidth": 0,
              "ticks": ""
             }
            },
            "marker": {
             "colorbar": {
              "outlinewidth": 0,
              "ticks": ""
             }
            },
            "type": "scatter3d"
           }
          ],
          "scattercarpet": [
           {
            "marker": {
             "colorbar": {
              "outlinewidth": 0,
              "ticks": ""
             }
            },
            "type": "scattercarpet"
           }
          ],
          "scattergeo": [
           {
            "marker": {
             "colorbar": {
              "outlinewidth": 0,
              "ticks": ""
             }
            },
            "type": "scattergeo"
           }
          ],
          "scattergl": [
           {
            "marker": {
             "colorbar": {
              "outlinewidth": 0,
              "ticks": ""
             }
            },
            "type": "scattergl"
           }
          ],
          "scattermapbox": [
           {
            "marker": {
             "colorbar": {
              "outlinewidth": 0,
              "ticks": ""
             }
            },
            "type": "scattermapbox"
           }
          ],
          "scatterpolar": [
           {
            "marker": {
             "colorbar": {
              "outlinewidth": 0,
              "ticks": ""
             }
            },
            "type": "scatterpolar"
           }
          ],
          "scatterpolargl": [
           {
            "marker": {
             "colorbar": {
              "outlinewidth": 0,
              "ticks": ""
             }
            },
            "type": "scatterpolargl"
           }
          ],
          "scatterternary": [
           {
            "marker": {
             "colorbar": {
              "outlinewidth": 0,
              "ticks": ""
             }
            },
            "type": "scatterternary"
           }
          ],
          "surface": [
           {
            "colorbar": {
             "outlinewidth": 0,
             "ticks": ""
            },
            "colorscale": [
             [
              0,
              "#0d0887"
             ],
             [
              0.1111111111111111,
              "#46039f"
             ],
             [
              0.2222222222222222,
              "#7201a8"
             ],
             [
              0.3333333333333333,
              "#9c179e"
             ],
             [
              0.4444444444444444,
              "#bd3786"
             ],
             [
              0.5555555555555556,
              "#d8576b"
             ],
             [
              0.6666666666666666,
              "#ed7953"
             ],
             [
              0.7777777777777778,
              "#fb9f3a"
             ],
             [
              0.8888888888888888,
              "#fdca26"
             ],
             [
              1,
              "#f0f921"
             ]
            ],
            "type": "surface"
           }
          ],
          "table": [
           {
            "cells": {
             "fill": {
              "color": "#EBF0F8"
             },
             "line": {
              "color": "white"
             }
            },
            "header": {
             "fill": {
              "color": "#C8D4E3"
             },
             "line": {
              "color": "white"
             }
            },
            "type": "table"
           }
          ]
         },
         "layout": {
          "annotationdefaults": {
           "arrowcolor": "#2a3f5f",
           "arrowhead": 0,
           "arrowwidth": 1
          },
          "coloraxis": {
           "colorbar": {
            "outlinewidth": 0,
            "ticks": ""
           }
          },
          "colorscale": {
           "diverging": [
            [
             0,
             "#8e0152"
            ],
            [
             0.1,
             "#c51b7d"
            ],
            [
             0.2,
             "#de77ae"
            ],
            [
             0.3,
             "#f1b6da"
            ],
            [
             0.4,
             "#fde0ef"
            ],
            [
             0.5,
             "#f7f7f7"
            ],
            [
             0.6,
             "#e6f5d0"
            ],
            [
             0.7,
             "#b8e186"
            ],
            [
             0.8,
             "#7fbc41"
            ],
            [
             0.9,
             "#4d9221"
            ],
            [
             1,
             "#276419"
            ]
           ],
           "sequential": [
            [
             0,
             "#0d0887"
            ],
            [
             0.1111111111111111,
             "#46039f"
            ],
            [
             0.2222222222222222,
             "#7201a8"
            ],
            [
             0.3333333333333333,
             "#9c179e"
            ],
            [
             0.4444444444444444,
             "#bd3786"
            ],
            [
             0.5555555555555556,
             "#d8576b"
            ],
            [
             0.6666666666666666,
             "#ed7953"
            ],
            [
             0.7777777777777778,
             "#fb9f3a"
            ],
            [
             0.8888888888888888,
             "#fdca26"
            ],
            [
             1,
             "#f0f921"
            ]
           ],
           "sequentialminus": [
            [
             0,
             "#0d0887"
            ],
            [
             0.1111111111111111,
             "#46039f"
            ],
            [
             0.2222222222222222,
             "#7201a8"
            ],
            [
             0.3333333333333333,
             "#9c179e"
            ],
            [
             0.4444444444444444,
             "#bd3786"
            ],
            [
             0.5555555555555556,
             "#d8576b"
            ],
            [
             0.6666666666666666,
             "#ed7953"
            ],
            [
             0.7777777777777778,
             "#fb9f3a"
            ],
            [
             0.8888888888888888,
             "#fdca26"
            ],
            [
             1,
             "#f0f921"
            ]
           ]
          },
          "colorway": [
           "#636efa",
           "#EF553B",
           "#00cc96",
           "#ab63fa",
           "#FFA15A",
           "#19d3f3",
           "#FF6692",
           "#B6E880",
           "#FF97FF",
           "#FECB52"
          ],
          "font": {
           "color": "#2a3f5f"
          },
          "geo": {
           "bgcolor": "white",
           "lakecolor": "white",
           "landcolor": "#E5ECF6",
           "showlakes": true,
           "showland": true,
           "subunitcolor": "white"
          },
          "hoverlabel": {
           "align": "left"
          },
          "hovermode": "closest",
          "mapbox": {
           "style": "light"
          },
          "paper_bgcolor": "white",
          "plot_bgcolor": "#E5ECF6",
          "polar": {
           "angularaxis": {
            "gridcolor": "white",
            "linecolor": "white",
            "ticks": ""
           },
           "bgcolor": "#E5ECF6",
           "radialaxis": {
            "gridcolor": "white",
            "linecolor": "white",
            "ticks": ""
           }
          },
          "scene": {
           "xaxis": {
            "backgroundcolor": "#E5ECF6",
            "gridcolor": "white",
            "gridwidth": 2,
            "linecolor": "white",
            "showbackground": true,
            "ticks": "",
            "zerolinecolor": "white"
           },
           "yaxis": {
            "backgroundcolor": "#E5ECF6",
            "gridcolor": "white",
            "gridwidth": 2,
            "linecolor": "white",
            "showbackground": true,
            "ticks": "",
            "zerolinecolor": "white"
           },
           "zaxis": {
            "backgroundcolor": "#E5ECF6",
            "gridcolor": "white",
            "gridwidth": 2,
            "linecolor": "white",
            "showbackground": true,
            "ticks": "",
            "zerolinecolor": "white"
           }
          },
          "shapedefaults": {
           "line": {
            "color": "#2a3f5f"
           }
          },
          "ternary": {
           "aaxis": {
            "gridcolor": "white",
            "linecolor": "white",
            "ticks": ""
           },
           "baxis": {
            "gridcolor": "white",
            "linecolor": "white",
            "ticks": ""
           },
           "bgcolor": "#E5ECF6",
           "caxis": {
            "gridcolor": "white",
            "linecolor": "white",
            "ticks": ""
           }
          },
          "title": {
           "x": 0.05
          },
          "xaxis": {
           "automargin": true,
           "gridcolor": "white",
           "linecolor": "white",
           "ticks": "",
           "title": {
            "standoff": 15
           },
           "zerolinecolor": "white",
           "zerolinewidth": 2
          },
          "yaxis": {
           "automargin": true,
           "gridcolor": "white",
           "linecolor": "white",
           "ticks": "",
           "title": {
            "standoff": 15
           },
           "zerolinecolor": "white",
           "zerolinewidth": 2
          }
         }
        }
       }
      },
      "text/html": [
       "<div>\n",
       "        \n",
       "        \n",
       "            <div id=\"9cb33518-6f61-4ef6-8960-29aa95962d71\" class=\"plotly-graph-div\" style=\"height:525px; width:100%;\"></div>\n",
       "            <script type=\"text/javascript\">\n",
       "                require([\"plotly\"], function(Plotly) {\n",
       "                    window.PLOTLYENV=window.PLOTLYENV || {};\n",
       "                    \n",
       "                if (document.getElementById(\"9cb33518-6f61-4ef6-8960-29aa95962d71\")) {\n",
       "                    Plotly.newPlot(\n",
       "                        '9cb33518-6f61-4ef6-8960-29aa95962d71',\n",
       "                        [{\"colorbar\": {\"title\": {\"text\": \"World-Electricity-Consumption(KWH)\"}}, \"locationmode\": \"country names\", \"locations\": [\"China\", \"United States\", \"European\", \"Russia\", \"Japan\", \"India\", \"Germany\", \"Canada\", \"Brazil\", \"Korea,\", \"France\", \"United Kingdom\", \"Italy\", \"Taiwan\", \"Spain\", \"Mexico\", \"Saudi\", \"Australia\", \"South\", \"Turkey\", \"Iran\", \"Indonesia\", \"Ukraine\", \"Thailand\", \"Poland\", \"Egypt\", \"Sweden\", \"Norway\", \"Malaysia\", \"Argentina\", \"Netherlands\", \"Vietnam\", \"Venezuela\", \"United Arab Emirates\", \"Finland\", \"Belgium\", \"Kazakhstan\", \"Pakistan\", \"Philippines\", \"Austria\", \"Chile\", \"Czechia\", \"Israel\", \"Switzerland\", \"Greece\", \"Iraq\", \"Romania\", \"Kuwait\", \"Colombia\", \"Singapore\", \"Portugal\", \"Uzbekistan\", \"Hong\", \"Algeria\", \"Bangladesh\", \"New\", \"Bulgaria\", \"Belarus\", \"Peru\", \"Denmark\", \"Qatar\", \"Slovakia\", \"Libya\", \"Serbia\", \"Morocco\", \"Syria\", \"Nigeria\", \"Ireland\", \"Hungary\", \"Oman\", \"Ecuador\", \"Puerto\", \"Azerbaijan\", \"Croatia\", \"Iceland\", \"Cuba\", \"Korea,\", \"Dominican\", \"Jordan\", \"Tajikistan\", \"Tunisia\", \"Slovenia\", \"Lebanon\", \"Bosnia\", \"Turkmenistan\", \"Bahrain\", \"Mozambique\", \"Ghana\", \"Sri\", \"Kyrgyzstan\", \"Lithuania\", \"Uruguay\", \"Costa\", \"Guatemala\", \"Georgia\", \"Trinidad\", \"Zambia\", \"Paraguay\", \"Albania\", \"Burma\", \"Estonia\", \"Congo,\", \"Panama\", \"Latvia\", \"Macedonia\", \"Zimbabwe\", \"Kenya\", \"Bolivia\", \"Luxembourg\", \"Sudan\", \"El\", \"Cameroon\", \"West\", \"Ethiopia\", \"Armenia\", \"Honduras\", \"Angola\", \"Cote\", \"Tanzania\", \"Nicaragua\", \"Moldova\", \"Cyprus\", \"Macau\", \"Namibia\", \"Mongolia\", \"Afghanistan\", \"Yemen\", \"Brunei\", \"Cambodia\", \"Montenegro\", \"Nepal\", \"Botswana\", \"Papua\", \"Jamaica\", \"Kosovo\", \"Laos\", \"Uganda\", \"New\", \"Mauritius\", \"Senegal\", \"Bhutan\", \"Malawi\", \"Madagascar\", \"Bahamas,\", \"Gabon\", \"Suriname\", \"Guam\", \"Liechtenstein\", \"Swaziland\", \"Burkina\", \"Togo\", \"Curacao\", \"Mauritania\", \"Barbados\", \"Niger\", \"Aruba\", \"Benin\", \"Guinea\", \"Mali\", \"Fiji\", \"Congo,\", \"Virgin\", \"Lesotho\", \"South\", \"Bermuda\", \"French\", \"Jersey\", \"Belize\", \"Andorra\", \"Guyana\", \"Cayman\", \"Haiti\", \"Rwanda\", \"Saint\", \"Djibouti\", \"Seychelles\", \"Somalia\", \"Antigua\", \"Greenland\", \"Cabo\", \"Eritrea\", \"Burundi\", \"Liberia\", \"Maldives\", \"Faroe\", \"Gambia,\", \"Chad\", \"Micronesia,\", \"Grenada\", \"Central\", \"Turks\", \"Gibraltar\", \"American\", \"Sierra\", \"Saint\", \"Saint\", \"Timor-Leste\", \"Equatorial\", \"Samoa\", \"Dominica\", \"Western\", \"Solomon\", \"Sao\", \"British\", \"Vanuatu\", \"Guinea-Bissau\", \"Tonga\", \"Saint\", \"Comoros\", \"Cook\", \"Kiribati\", \"Montserrat\", \"Nauru\", \"Falkland\", \"Saint\", \"Niue\", \"Gaza\", \"Malta\", \"Northern\"], \"text\": [\"China 5,523,000,000,000\", \"United 3,832,000,000,000\", \"European 2,771,000,000,000\", \"Russia 1,065,000,000,000\", \"Japan 921,000,000,000\", \"India 864,700,000,000\", \"Germany 540,100,000,000\", \"Canada 511,000,000,000\", \"Brazil 483,500,000,000\", \"Korea, 482,400,000,000\", \"France 451,100,000,000\", \"United 319,100,000,000\", \"Italy 303,100,000,000\", \"Taiwan 249,500,000,000\", \"Spain 243,100,000,000\", \"Mexico 234,000,000,000\", \"Saudi 231,600,000,000\", \"Australia 222,600,000,000\", \"South 211,600,000,000\", \"Turkey 197,000,000,000\", \"Iran 195,300,000,000\", \"Indonesia 167,500,000,000\", \"Ukraine 159,800,000,000\", \"Thailand 155,900,000,000\", \"Poland 139,000,000,000\", \"Egypt 135,600,000,000\", \"Sweden 130,500,000,000\", \"Norway 126,400,000,000\", \"Malaysia 118,500,000,000\", \"Argentina 117,100,000,000\", \"Netherlands 116,800,000,000\", \"Vietnam 108,300,000,000\", \"Venezuela 97,690,000,000\", \"United 93,280,000,000\", \"Finland 82,040,000,000\", \"Belgium 81,890,000,000\", \"Kazakhstan 80,290,000,000\", \"Pakistan 78,890,000,000\", \"Philippines 75,270,000,000\", \"Austria 69,750,000,000\", \"Chile 63,390,000,000\", \"Czechia 60,550,000,000\", \"Israel 59,830,000,000\", \"Switzerland 58,010,000,000\", \"Greece 57,730,000,000\", \"Iraq 53,410,000,000\", \"Romania 50,730,000,000\", \"Kuwait 50,000,000,000\", \"Colombia 49,380,000,000\", \"Singapore 47,180,000,000\", \"Portugal 46,250,000,000\", \"Uzbekistan 45,210,000,000\", \"Hong 44,210,000,000\", \"Algeria 42,870,000,000\", \"Bangladesh 41,520,000,000\", \"New 40,300,000,000\", \"Bulgaria 37,990,000,000\", \"Belarus 37,880,000,000\", \"Peru 35,690,000,000\", \"Denmark 31,960,000,000\", \"Qatar 30,530,000,000\", \"Slovakia 28,360,000,000\", \"Libya 27,540,000,000\", \"Serbia 26,910,000,000\", \"Morocco 26,700,000,000\", \"Syria 25,700,000,000\", \"Nigeria 24,780,000,000\", \"Ireland 24,240,000,000\", \"Hungary 21,550,000,000\", \"Oman 20,360,000,000\", \"Ecuador 19,020,000,000\", \"Puerto 18,620,000,000\", \"Azerbaijan 17,790,000,000\", \"Croatia 16,970,000,000\", \"Iceland 16,940,000,000\", \"Cuba 16,200,000,000\", \"Korea, 16,000,000,000\", \"Dominican 15,140,000,000\", \"Jordan 14,560,000,000\", \"Tajikistan 14,420,000,000\", \"Tunisia 13,310,000,000\", \"Slovenia 13,020,000,000\", \"Lebanon 12,940,000,000\", \"Bosnia 12,560,000,000\", \"Turkmenistan 11,750,000,000\", \"Bahrain 11,690,000,000\", \"Mozambique 11,280,000,000\", \"Ghana 10,580,000,000\", \"Sri 10,170,000,000\", \"Kyrgyzstan 9,943,000,000\", \"Lithuania 9,664,000,000\", \"Uruguay 9,559,000,000\", \"Costa 8,987,000,000\", \"Guatemala 8,915,000,000\", \"Georgia 8,468,000,000\", \"Trinidad 8,365,000,000\", \"Zambia 8,327,000,000\", \"Paraguay 8,125,000,000\", \"Albania 7,793,000,000\", \"Burma 7,765,000,000\", \"Estonia 7,417,000,000\", \"Congo, 7,292,000,000\", \"Panama 7,144,000,000\", \"Latvia 7,141,000,000\", \"Macedonia 6,960,000,000\", \"Zimbabwe 6,831,000,000\", \"Kenya 6,627,000,000\", \"Bolivia 6,456,000,000\", \"Luxembourg 6,108,000,000\", \"Sudan 5,665,000,000\", \"El 5,665,000,000\", \"Cameroon 5,535,000,000\", \"West 5,312,000,000\", \"Ethiopia 5,227,000,000\", \"Armenia 5,043,000,000\", \"Honduras 5,036,000,000\", \"Angola 4,842,000,000\", \"Cote 4,731,000,000\", \"Tanzania 4,545,000,000\", \"Nicaragua 4,412,000,000\", \"Moldova 4,305,000,000\", \"Cyprus 4,296,000,000\", \"Macau 4,291,000,000\", \"Namibia 4,238,000,000\", \"Mongolia 4,204,000,000\", \"Afghanistan 3,893,000,000\", \"Yemen 3,838,000,000\", \"Brunei 3,766,000,000\", \"Cambodia 3,553,000,000\", \"Montenegro 3,465,000,000\", \"Nepal 3,239,000,000\", \"Botswana 3,213,000,000\", \"Papua 3,116,000,000\", \"Jamaica 3,008,000,000\", \"Kosovo 2,887,000,000\", \"Laos 2,874,000,000\", \"Uganda 2,821,000,000\", \"New 2,716,000,000\", \"Mauritius 2,658,000,000\", \"Senegal 2,586,000,000\", \"Bhutan 2,085,000,000\", \"Malawi 2,027,000,000\", \"Madagascar 1,883,000,000\", \"Bahamas, 1,716,000,000\", \"Gabon 1,680,000,000\", \"Suriname 1,572,000,000\", \"Guam 1,566,000,000\", \"Liechtenstein 1,360,000,000\", \"Swaziland 1,295,000,000\", \"Burkina 985,500,000\", \"Togo 976,000,000\", \"Curacao 968,000,000\", \"Mauritania 962,600,000\", \"Barbados 938,000,000\", \"Niger 930,200,000\", \"Aruba 920,700,000\", \"Benin 911,000,000\", \"Guinea 903,000,000\", \"Mali 882,600,000\", \"Fiji 777,600,000\", \"Congo, 740,000,000\", \"Virgin 723,500,000\", \"Lesotho 707,000,000\", \"South 694,100,000\", \"Bermuda 664,200,000\", \"French 652,900,000\", \"Jersey 630,100,000\", \"Belize 605,000,000\", \"Andorra 562,400,000\", \"Guyana 558,000,000\", \"Cayman 545,900,000\", \"Haiti 452,000,000\", \"Rwanda 365,500,000\", \"Saint 336,400,000\", \"Djibouti 311,600,000\", \"Seychelles 293,900,000\", \"Somalia 293,000,000\", \"Antigua 293,000,000\", \"Greenland 292,000,000\", \"Cabo 285,500,000\", \"Eritrea 284,000,000\", \"Burundi 282,900,000\", \"Liberia 276,900,000\", \"Maldives 267,100,000\", \"Faroe 261,300,000\", \"Gambia, 218,600,000\", \"Chad 190,700,000\", \"Micronesia, 178,600,000\", \"Grenada 178,000,000\", \"Central 168,300,000\", \"Turks 167,400,000\", \"Gibraltar 160,000,000\", \"American 146,000,000\", \"Sierra 134,900,000\", \"Saint 130,200,000\", \"Saint 127,400,000\", \"Timor-Leste 125,300,000\", \"Equatorial 93,000,000\", \"Samoa 90,400,000\", \"Dominica 89,750,000\", \"Western 83,700,000\", \"Solomon 79,050,000\", \"Sao 60,450,000\", \"British 51,150,000\", \"Vanuatu 49,290,000\", \"Guinea-Bissau 46,500,000\", \"Tonga 44,640,000\", \"Saint 39,990,000\", \"Comoros 39,990,000\", \"Cook 28,950,000\", \"Kiribati 24,180,000\", \"Montserrat 23,250,000\", \"Nauru 23,250,000\", \"Falkland 11,160,000\", \"Saint 7,440,000\", \"Niue 2,790,000\", \"Gaza 202,000\", \"Malta 174,700\", \"Northern 48,300\"], \"type\": \"choropleth\", \"z\": [5523000000000.0, 3832000000000.0, 2771000000000.0, 1065000000000.0, 921000000000.0, 864700000000.0, 540100000000.0, 511000000000.0, 483500000000.0, 482400000000.0, 451100000000.0, 319100000000.0, 303100000000.0, 249500000000.0, 243100000000.0, 234000000000.0, 231600000000.0, 222600000000.0, 211600000000.0, 197000000000.0, 195300000000.0, 167500000000.0, 159800000000.0, 155900000000.0, 139000000000.0, 135600000000.0, 130500000000.0, 126400000000.0, 118500000000.0, 117100000000.0, 116800000000.0, 108300000000.0, 97690000000.0, 93280000000.0, 82040000000.0, 81890000000.0, 80290000000.0, 78890000000.0, 75270000000.0, 69750000000.0, 63390000000.0, 60550000000.0, 59830000000.0, 58010000000.0, 57730000000.0, 53410000000.0, 50730000000.0, 50000000000.0, 49380000000.0, 47180000000.0, 46250000000.0, 45210000000.0, 44210000000.0, 42870000000.0, 41520000000.0, 40300000000.0, 37990000000.0, 37880000000.0, 35690000000.0, 31960000000.0, 30530000000.0, 28360000000.0, 27540000000.0, 26910000000.0, 26700000000.0, 25700000000.0, 24780000000.0, 24240000000.0, 21550000000.0, 20360000000.0, 19020000000.0, 18620000000.0, 17790000000.0, 16970000000.0, 16940000000.0, 16200000000.0, 16000000000.0, 15140000000.0, 14560000000.0, 14420000000.0, 13310000000.0, 13020000000.0, 12940000000.0, 12560000000.0, 11750000000.0, 11690000000.0, 11280000000.0, 10580000000.0, 10170000000.0, 9943000000.0, 9664000000.0, 9559000000.0, 8987000000.0, 8915000000.0, 8468000000.0, 8365000000.0, 8327000000.0, 8125000000.0, 7793000000.0, 7765000000.0, 7417000000.0, 7292000000.0, 7144000000.0, 7141000000.0, 6960000000.0, 6831000000.0, 6627000000.0, 6456000000.0, 6108000000.0, 5665000000.0, 5665000000.0, 5535000000.0, 5312000000.0, 5227000000.0, 5043000000.0, 5036000000.0, 4842000000.0, 4731000000.0, 4545000000.0, 4412000000.0, 4305000000.0, 4296000000.0, 4291000000.0, 4238000000.0, 4204000000.0, 3893000000.0, 3838000000.0, 3766000000.0, 3553000000.0, 3465000000.0, 3239000000.0, 3213000000.0, 3116000000.0, 3008000000.0, 2887000000.0, 2874000000.0, 2821000000.0, 2716000000.0, 2658000000.0, 2586000000.0, 2085000000.0, 2027000000.0, 1883000000.0, 1716000000.0, 1680000000.0, 1572000000.0, 1566000000.0, 1360000000.0, 1295000000.0, 985500000.0, 976000000.0, 968000000.0, 962600000.0, 938000000.0, 930200000.0, 920700000.0, 911000000.0, 903000000.0, 882600000.0, 777600000.0, 740000000.0, 723500000.0, 707000000.0, 694100000.0, 664200000.0, 652900000.0, 630100000.0, 605000000.0, 562400000.0, 558000000.0, 545900000.0, 452000000.0, 365500000.0, 336400000.0, 311600000.0, 293900000.0, 293000000.0, 293000000.0, 292000000.0, 285500000.0, 284000000.0, 282900000.0, 276900000.0, 267100000.0, 261300000.0, 218600000.0, 190700000.0, 178600000.0, 178000000.0, 168300000.0, 167400000.0, 160000000.0, 146000000.0, 134900000.0, 130200000.0, 127400000.0, 125300000.0, 93000000.0, 90400000.0, 89750000.0, 83700000.0, 79050000.0, 60450000.0, 51150000.0, 49290000.0, 46500000.0, 44640000.0, 39990000.0, 39990000.0, 28950000.0, 24180000.0, 23250000.0, 23250000.0, 11160000.0, 7440000.0, 2790000.0, 202000.0, 174700.0, 48300.0]}],\n",
       "                        {\"geo\": {\"scope\": \"world\"}, \"template\": {\"data\": {\"bar\": [{\"error_x\": {\"color\": \"#2a3f5f\"}, \"error_y\": {\"color\": \"#2a3f5f\"}, \"marker\": {\"line\": {\"color\": \"#E5ECF6\", \"width\": 0.5}}, \"type\": \"bar\"}], \"barpolar\": [{\"marker\": {\"line\": {\"color\": \"#E5ECF6\", \"width\": 0.5}}, \"type\": \"barpolar\"}], \"carpet\": [{\"aaxis\": {\"endlinecolor\": \"#2a3f5f\", \"gridcolor\": \"white\", \"linecolor\": \"white\", \"minorgridcolor\": \"white\", \"startlinecolor\": \"#2a3f5f\"}, \"baxis\": {\"endlinecolor\": \"#2a3f5f\", \"gridcolor\": \"white\", \"linecolor\": \"white\", \"minorgridcolor\": \"white\", \"startlinecolor\": \"#2a3f5f\"}, \"type\": \"carpet\"}], \"choropleth\": [{\"colorbar\": {\"outlinewidth\": 0, \"ticks\": \"\"}, \"type\": \"choropleth\"}], \"contour\": [{\"colorbar\": {\"outlinewidth\": 0, \"ticks\": \"\"}, \"colorscale\": [[0.0, \"#0d0887\"], [0.1111111111111111, \"#46039f\"], [0.2222222222222222, \"#7201a8\"], [0.3333333333333333, \"#9c179e\"], [0.4444444444444444, \"#bd3786\"], [0.5555555555555556, \"#d8576b\"], [0.6666666666666666, \"#ed7953\"], [0.7777777777777778, \"#fb9f3a\"], [0.8888888888888888, \"#fdca26\"], [1.0, \"#f0f921\"]], \"type\": \"contour\"}], \"contourcarpet\": [{\"colorbar\": {\"outlinewidth\": 0, \"ticks\": \"\"}, \"type\": \"contourcarpet\"}], \"heatmap\": [{\"colorbar\": {\"outlinewidth\": 0, \"ticks\": \"\"}, \"colorscale\": [[0.0, \"#0d0887\"], [0.1111111111111111, \"#46039f\"], [0.2222222222222222, \"#7201a8\"], [0.3333333333333333, \"#9c179e\"], [0.4444444444444444, \"#bd3786\"], [0.5555555555555556, \"#d8576b\"], [0.6666666666666666, \"#ed7953\"], [0.7777777777777778, \"#fb9f3a\"], [0.8888888888888888, \"#fdca26\"], [1.0, \"#f0f921\"]], \"type\": \"heatmap\"}], \"heatmapgl\": [{\"colorbar\": {\"outlinewidth\": 0, \"ticks\": \"\"}, \"colorscale\": [[0.0, \"#0d0887\"], [0.1111111111111111, \"#46039f\"], [0.2222222222222222, \"#7201a8\"], [0.3333333333333333, \"#9c179e\"], [0.4444444444444444, \"#bd3786\"], [0.5555555555555556, \"#d8576b\"], [0.6666666666666666, \"#ed7953\"], [0.7777777777777778, \"#fb9f3a\"], [0.8888888888888888, \"#fdca26\"], [1.0, \"#f0f921\"]], \"type\": \"heatmapgl\"}], \"histogram\": [{\"marker\": {\"colorbar\": {\"outlinewidth\": 0, \"ticks\": \"\"}}, \"type\": \"histogram\"}], \"histogram2d\": [{\"colorbar\": {\"outlinewidth\": 0, \"ticks\": \"\"}, \"colorscale\": [[0.0, \"#0d0887\"], [0.1111111111111111, \"#46039f\"], [0.2222222222222222, \"#7201a8\"], [0.3333333333333333, \"#9c179e\"], [0.4444444444444444, \"#bd3786\"], [0.5555555555555556, \"#d8576b\"], [0.6666666666666666, \"#ed7953\"], [0.7777777777777778, \"#fb9f3a\"], [0.8888888888888888, \"#fdca26\"], [1.0, \"#f0f921\"]], \"type\": \"histogram2d\"}], \"histogram2dcontour\": [{\"colorbar\": {\"outlinewidth\": 0, \"ticks\": \"\"}, \"colorscale\": [[0.0, \"#0d0887\"], [0.1111111111111111, \"#46039f\"], [0.2222222222222222, \"#7201a8\"], [0.3333333333333333, \"#9c179e\"], [0.4444444444444444, \"#bd3786\"], [0.5555555555555556, \"#d8576b\"], [0.6666666666666666, \"#ed7953\"], [0.7777777777777778, \"#fb9f3a\"], [0.8888888888888888, \"#fdca26\"], [1.0, \"#f0f921\"]], \"type\": \"histogram2dcontour\"}], \"mesh3d\": [{\"colorbar\": {\"outlinewidth\": 0, \"ticks\": \"\"}, \"type\": \"mesh3d\"}], \"parcoords\": [{\"line\": {\"colorbar\": {\"outlinewidth\": 0, \"ticks\": \"\"}}, \"type\": \"parcoords\"}], \"pie\": [{\"automargin\": true, \"type\": \"pie\"}], \"scatter\": [{\"marker\": {\"colorbar\": {\"outlinewidth\": 0, \"ticks\": \"\"}}, \"type\": \"scatter\"}], \"scatter3d\": [{\"line\": {\"colorbar\": {\"outlinewidth\": 0, \"ticks\": \"\"}}, \"marker\": {\"colorbar\": {\"outlinewidth\": 0, \"ticks\": \"\"}}, \"type\": \"scatter3d\"}], \"scattercarpet\": [{\"marker\": {\"colorbar\": {\"outlinewidth\": 0, \"ticks\": \"\"}}, \"type\": \"scattercarpet\"}], \"scattergeo\": [{\"marker\": {\"colorbar\": {\"outlinewidth\": 0, \"ticks\": \"\"}}, \"type\": \"scattergeo\"}], \"scattergl\": [{\"marker\": {\"colorbar\": {\"outlinewidth\": 0, \"ticks\": \"\"}}, \"type\": \"scattergl\"}], \"scattermapbox\": [{\"marker\": {\"colorbar\": {\"outlinewidth\": 0, \"ticks\": \"\"}}, \"type\": \"scattermapbox\"}], \"scatterpolar\": [{\"marker\": {\"colorbar\": {\"outlinewidth\": 0, \"ticks\": \"\"}}, \"type\": \"scatterpolar\"}], \"scatterpolargl\": [{\"marker\": {\"colorbar\": {\"outlinewidth\": 0, \"ticks\": \"\"}}, \"type\": \"scatterpolargl\"}], \"scatterternary\": [{\"marker\": {\"colorbar\": {\"outlinewidth\": 0, \"ticks\": \"\"}}, \"type\": \"scatterternary\"}], \"surface\": [{\"colorbar\": {\"outlinewidth\": 0, \"ticks\": \"\"}, \"colorscale\": [[0.0, \"#0d0887\"], [0.1111111111111111, \"#46039f\"], [0.2222222222222222, \"#7201a8\"], [0.3333333333333333, \"#9c179e\"], [0.4444444444444444, \"#bd3786\"], [0.5555555555555556, \"#d8576b\"], [0.6666666666666666, \"#ed7953\"], [0.7777777777777778, \"#fb9f3a\"], [0.8888888888888888, \"#fdca26\"], [1.0, \"#f0f921\"]], \"type\": \"surface\"}], \"table\": [{\"cells\": {\"fill\": {\"color\": \"#EBF0F8\"}, \"line\": {\"color\": \"white\"}}, \"header\": {\"fill\": {\"color\": \"#C8D4E3\"}, \"line\": {\"color\": \"white\"}}, \"type\": \"table\"}]}, \"layout\": {\"annotationdefaults\": {\"arrowcolor\": \"#2a3f5f\", \"arrowhead\": 0, \"arrowwidth\": 1}, \"coloraxis\": {\"colorbar\": {\"outlinewidth\": 0, \"ticks\": \"\"}}, \"colorscale\": {\"diverging\": [[0, \"#8e0152\"], [0.1, \"#c51b7d\"], [0.2, \"#de77ae\"], [0.3, \"#f1b6da\"], [0.4, \"#fde0ef\"], [0.5, \"#f7f7f7\"], [0.6, \"#e6f5d0\"], [0.7, \"#b8e186\"], [0.8, \"#7fbc41\"], [0.9, \"#4d9221\"], [1, \"#276419\"]], \"sequential\": [[0.0, \"#0d0887\"], [0.1111111111111111, \"#46039f\"], [0.2222222222222222, \"#7201a8\"], [0.3333333333333333, \"#9c179e\"], [0.4444444444444444, \"#bd3786\"], [0.5555555555555556, \"#d8576b\"], [0.6666666666666666, \"#ed7953\"], [0.7777777777777778, \"#fb9f3a\"], [0.8888888888888888, \"#fdca26\"], [1.0, \"#f0f921\"]], \"sequentialminus\": [[0.0, \"#0d0887\"], [0.1111111111111111, \"#46039f\"], [0.2222222222222222, \"#7201a8\"], [0.3333333333333333, \"#9c179e\"], [0.4444444444444444, \"#bd3786\"], [0.5555555555555556, \"#d8576b\"], [0.6666666666666666, \"#ed7953\"], [0.7777777777777778, \"#fb9f3a\"], [0.8888888888888888, \"#fdca26\"], [1.0, \"#f0f921\"]]}, \"colorway\": [\"#636efa\", \"#EF553B\", \"#00cc96\", \"#ab63fa\", \"#FFA15A\", \"#19d3f3\", \"#FF6692\", \"#B6E880\", \"#FF97FF\", \"#FECB52\"], \"font\": {\"color\": \"#2a3f5f\"}, \"geo\": {\"bgcolor\": \"white\", \"lakecolor\": \"white\", \"landcolor\": \"#E5ECF6\", \"showlakes\": true, \"showland\": true, \"subunitcolor\": \"white\"}, \"hoverlabel\": {\"align\": \"left\"}, \"hovermode\": \"closest\", \"mapbox\": {\"style\": \"light\"}, \"paper_bgcolor\": \"white\", \"plot_bgcolor\": \"#E5ECF6\", \"polar\": {\"angularaxis\": {\"gridcolor\": \"white\", \"linecolor\": \"white\", \"ticks\": \"\"}, \"bgcolor\": \"#E5ECF6\", \"radialaxis\": {\"gridcolor\": \"white\", \"linecolor\": \"white\", \"ticks\": \"\"}}, \"scene\": {\"xaxis\": {\"backgroundcolor\": \"#E5ECF6\", \"gridcolor\": \"white\", \"gridwidth\": 2, \"linecolor\": \"white\", \"showbackground\": true, \"ticks\": \"\", \"zerolinecolor\": \"white\"}, \"yaxis\": {\"backgroundcolor\": \"#E5ECF6\", \"gridcolor\": \"white\", \"gridwidth\": 2, \"linecolor\": \"white\", \"showbackground\": true, \"ticks\": \"\", \"zerolinecolor\": \"white\"}, \"zaxis\": {\"backgroundcolor\": \"#E5ECF6\", \"gridcolor\": \"white\", \"gridwidth\": 2, \"linecolor\": \"white\", \"showbackground\": true, \"ticks\": \"\", \"zerolinecolor\": \"white\"}}, \"shapedefaults\": {\"line\": {\"color\": \"#2a3f5f\"}}, \"ternary\": {\"aaxis\": {\"gridcolor\": \"white\", \"linecolor\": \"white\", \"ticks\": \"\"}, \"baxis\": {\"gridcolor\": \"white\", \"linecolor\": \"white\", \"ticks\": \"\"}, \"bgcolor\": \"#E5ECF6\", \"caxis\": {\"gridcolor\": \"white\", \"linecolor\": \"white\", \"ticks\": \"\"}}, \"title\": {\"x\": 0.05}, \"xaxis\": {\"automargin\": true, \"gridcolor\": \"white\", \"linecolor\": \"white\", \"ticks\": \"\", \"title\": {\"standoff\": 15}, \"zerolinecolor\": \"white\", \"zerolinewidth\": 2}, \"yaxis\": {\"automargin\": true, \"gridcolor\": \"white\", \"linecolor\": \"white\", \"ticks\": \"\", \"title\": {\"standoff\": 15}, \"zerolinecolor\": \"white\", \"zerolinewidth\": 2}}}},\n",
       "                        {\"responsive\": true}\n",
       "                    ).then(function(){\n",
       "                            \n",
       "var gd = document.getElementById('9cb33518-6f61-4ef6-8960-29aa95962d71');\n",
       "var x = new MutationObserver(function (mutations, observer) {{\n",
       "        var display = window.getComputedStyle(gd).display;\n",
       "        if (!display || display === 'none') {{\n",
       "            console.log([gd, 'removed!']);\n",
       "            Plotly.purge(gd);\n",
       "            observer.disconnect();\n",
       "        }}\n",
       "}});\n",
       "\n",
       "// Listen for the removal of the full notebook cells\n",
       "var notebookContainer = gd.closest('#notebook-container');\n",
       "if (notebookContainer) {{\n",
       "    x.observe(notebookContainer, {childList: true});\n",
       "}}\n",
       "\n",
       "// Listen for the clearing of the current output cell\n",
       "var outputEl = gd.closest('.output');\n",
       "if (outputEl) {{\n",
       "    x.observe(outputEl, {childList: true});\n",
       "}}\n",
       "\n",
       "                        })\n",
       "                };\n",
       "                });\n",
       "            </script>\n",
       "        </div>"
      ]
     },
     "metadata": {},
     "output_type": "display_data"
    }
   ],
   "source": [
    "choromap = go.Figure(data = [data],layout = layout)\n",
    "iplot(choromap,validate=False)"
   ]
  },
  {
   "cell_type": "markdown",
   "metadata": {},
   "source": [
    "## USA Choropleth\n",
    "\n",
    "** Import the 2012_Election_Data csv file using pandas. **"
   ]
  },
  {
   "cell_type": "code",
   "execution_count": 9,
   "metadata": {},
   "outputs": [],
   "source": [
    "df1 = pd.read_csv('2012_Election_Data')"
   ]
  },
  {
   "cell_type": "markdown",
   "metadata": {},
   "source": [
    "** Check the head of the DataFrame. **"
   ]
  },
  {
   "cell_type": "code",
   "execution_count": 10,
   "metadata": {},
   "outputs": [
    {
     "data": {
      "text/html": [
       "<div>\n",
       "<style scoped>\n",
       "    .dataframe tbody tr th:only-of-type {\n",
       "        vertical-align: middle;\n",
       "    }\n",
       "\n",
       "    .dataframe tbody tr th {\n",
       "        vertical-align: top;\n",
       "    }\n",
       "\n",
       "    .dataframe thead th {\n",
       "        text-align: right;\n",
       "    }\n",
       "</style>\n",
       "<table border=\"1\" class=\"dataframe\">\n",
       "  <thead>\n",
       "    <tr style=\"text-align: right;\">\n",
       "      <th></th>\n",
       "      <th>Year</th>\n",
       "      <th>ICPSR State Code</th>\n",
       "      <th>Alphanumeric State Code</th>\n",
       "      <th>State</th>\n",
       "      <th>VEP Total Ballots Counted</th>\n",
       "      <th>VEP Highest Office</th>\n",
       "      <th>VAP Highest Office</th>\n",
       "      <th>Total Ballots Counted</th>\n",
       "      <th>Highest Office</th>\n",
       "      <th>Voting-Eligible Population (VEP)</th>\n",
       "      <th>Voting-Age Population (VAP)</th>\n",
       "      <th>% Non-citizen</th>\n",
       "      <th>Prison</th>\n",
       "      <th>Probation</th>\n",
       "      <th>Parole</th>\n",
       "      <th>Total Ineligible Felon</th>\n",
       "      <th>State Abv</th>\n",
       "    </tr>\n",
       "  </thead>\n",
       "  <tbody>\n",
       "    <tr>\n",
       "      <th>0</th>\n",
       "      <td>2012</td>\n",
       "      <td>41</td>\n",
       "      <td>1</td>\n",
       "      <td>Alabama</td>\n",
       "      <td>NaN</td>\n",
       "      <td>58.6%</td>\n",
       "      <td>56.0%</td>\n",
       "      <td>NaN</td>\n",
       "      <td>2,074,338</td>\n",
       "      <td>3,539,217</td>\n",
       "      <td>3707440.0</td>\n",
       "      <td>2.6%</td>\n",
       "      <td>32,232</td>\n",
       "      <td>57,993</td>\n",
       "      <td>8,616</td>\n",
       "      <td>71,584</td>\n",
       "      <td>AL</td>\n",
       "    </tr>\n",
       "    <tr>\n",
       "      <th>1</th>\n",
       "      <td>2012</td>\n",
       "      <td>81</td>\n",
       "      <td>2</td>\n",
       "      <td>Alaska</td>\n",
       "      <td>58.9%</td>\n",
       "      <td>58.7%</td>\n",
       "      <td>55.3%</td>\n",
       "      <td>301,694</td>\n",
       "      <td>300,495</td>\n",
       "      <td>511,792</td>\n",
       "      <td>543763.0</td>\n",
       "      <td>3.8%</td>\n",
       "      <td>5,633</td>\n",
       "      <td>7,173</td>\n",
       "      <td>1,882</td>\n",
       "      <td>11,317</td>\n",
       "      <td>AK</td>\n",
       "    </tr>\n",
       "    <tr>\n",
       "      <th>2</th>\n",
       "      <td>2012</td>\n",
       "      <td>61</td>\n",
       "      <td>3</td>\n",
       "      <td>Arizona</td>\n",
       "      <td>53.0%</td>\n",
       "      <td>52.6%</td>\n",
       "      <td>46.5%</td>\n",
       "      <td>2,323,579</td>\n",
       "      <td>2,306,559</td>\n",
       "      <td>4,387,900</td>\n",
       "      <td>4959270.0</td>\n",
       "      <td>9.9%</td>\n",
       "      <td>35,188</td>\n",
       "      <td>72,452</td>\n",
       "      <td>7,460</td>\n",
       "      <td>81,048</td>\n",
       "      <td>AZ</td>\n",
       "    </tr>\n",
       "    <tr>\n",
       "      <th>3</th>\n",
       "      <td>2012</td>\n",
       "      <td>42</td>\n",
       "      <td>4</td>\n",
       "      <td>Arkansas</td>\n",
       "      <td>51.1%</td>\n",
       "      <td>50.7%</td>\n",
       "      <td>47.7%</td>\n",
       "      <td>1,078,548</td>\n",
       "      <td>1,069,468</td>\n",
       "      <td>2,109,847</td>\n",
       "      <td>2242740.0</td>\n",
       "      <td>3.5%</td>\n",
       "      <td>14,471</td>\n",
       "      <td>30,122</td>\n",
       "      <td>23,372</td>\n",
       "      <td>53,808</td>\n",
       "      <td>AR</td>\n",
       "    </tr>\n",
       "    <tr>\n",
       "      <th>4</th>\n",
       "      <td>2012</td>\n",
       "      <td>71</td>\n",
       "      <td>5</td>\n",
       "      <td>California</td>\n",
       "      <td>55.7%</td>\n",
       "      <td>55.1%</td>\n",
       "      <td>45.1%</td>\n",
       "      <td>13,202,158</td>\n",
       "      <td>13,038,547</td>\n",
       "      <td>23,681,837</td>\n",
       "      <td>28913129.0</td>\n",
       "      <td>17.4%</td>\n",
       "      <td>119,455</td>\n",
       "      <td>0</td>\n",
       "      <td>89,287</td>\n",
       "      <td>208,742</td>\n",
       "      <td>CA</td>\n",
       "    </tr>\n",
       "    <tr>\n",
       "      <th>5</th>\n",
       "      <td>2012</td>\n",
       "      <td>62</td>\n",
       "      <td>6</td>\n",
       "      <td>Colorado</td>\n",
       "      <td>70.6%</td>\n",
       "      <td>69.9%</td>\n",
       "      <td>64.5%</td>\n",
       "      <td>2,596,173</td>\n",
       "      <td>2,569,522</td>\n",
       "      <td>3,675,871</td>\n",
       "      <td>3981208.0</td>\n",
       "      <td>6.9%</td>\n",
       "      <td>18,807</td>\n",
       "      <td>0</td>\n",
       "      <td>11,458</td>\n",
       "      <td>30,265</td>\n",
       "      <td>CO</td>\n",
       "    </tr>\n",
       "    <tr>\n",
       "      <th>6</th>\n",
       "      <td>2012</td>\n",
       "      <td>1</td>\n",
       "      <td>7</td>\n",
       "      <td>Connecticut</td>\n",
       "      <td>61.4%</td>\n",
       "      <td>61.3%</td>\n",
       "      <td>55.6%</td>\n",
       "      <td>1,560,640</td>\n",
       "      <td>1,558,960</td>\n",
       "      <td>2,543,202</td>\n",
       "      <td>2801375.0</td>\n",
       "      <td>8.5%</td>\n",
       "      <td>16,935</td>\n",
       "      <td>0</td>\n",
       "      <td>2,793</td>\n",
       "      <td>19,728</td>\n",
       "      <td>CT</td>\n",
       "    </tr>\n",
       "    <tr>\n",
       "      <th>7</th>\n",
       "      <td>2012</td>\n",
       "      <td>11</td>\n",
       "      <td>8</td>\n",
       "      <td>Delaware</td>\n",
       "      <td>NaN</td>\n",
       "      <td>62.3%</td>\n",
       "      <td>57.8%</td>\n",
       "      <td>NaN</td>\n",
       "      <td>413,921</td>\n",
       "      <td>663,967</td>\n",
       "      <td>715708.0</td>\n",
       "      <td>5.1%</td>\n",
       "      <td>6,610</td>\n",
       "      <td>15,641</td>\n",
       "      <td>601</td>\n",
       "      <td>15,501</td>\n",
       "      <td>DE</td>\n",
       "    </tr>\n",
       "    <tr>\n",
       "      <th>8</th>\n",
       "      <td>2012</td>\n",
       "      <td>55</td>\n",
       "      <td>9</td>\n",
       "      <td>District of Columbia</td>\n",
       "      <td>61.6%</td>\n",
       "      <td>61.5%</td>\n",
       "      <td>55.5%</td>\n",
       "      <td>294,254</td>\n",
       "      <td>293,764</td>\n",
       "      <td>477,582</td>\n",
       "      <td>528848.0</td>\n",
       "      <td>9.7%</td>\n",
       "      <td>0</td>\n",
       "      <td>0</td>\n",
       "      <td>0</td>\n",
       "      <td>0</td>\n",
       "      <td>District of Columbia</td>\n",
       "    </tr>\n",
       "    <tr>\n",
       "      <th>9</th>\n",
       "      <td>2012</td>\n",
       "      <td>43</td>\n",
       "      <td>10</td>\n",
       "      <td>Florida</td>\n",
       "      <td>63.3%</td>\n",
       "      <td>62.8%</td>\n",
       "      <td>55.1%</td>\n",
       "      <td>8,538,264</td>\n",
       "      <td>8,474,179</td>\n",
       "      <td>13,495,057</td>\n",
       "      <td>15380947.0</td>\n",
       "      <td>10.8%</td>\n",
       "      <td>91,954</td>\n",
       "      <td>240,869</td>\n",
       "      <td>4,538</td>\n",
       "      <td>224,153</td>\n",
       "      <td>FL</td>\n",
       "    </tr>\n",
       "    <tr>\n",
       "      <th>10</th>\n",
       "      <td>2012</td>\n",
       "      <td>44</td>\n",
       "      <td>11</td>\n",
       "      <td>Georgia</td>\n",
       "      <td>59.3%</td>\n",
       "      <td>59.0%</td>\n",
       "      <td>52.3%</td>\n",
       "      <td>3,919,355</td>\n",
       "      <td>3,900,050</td>\n",
       "      <td>6,606,607</td>\n",
       "      <td>7452696.0</td>\n",
       "      <td>7.2%</td>\n",
       "      <td>52,737</td>\n",
       "      <td>442,061</td>\n",
       "      <td>24,761</td>\n",
       "      <td>311,790</td>\n",
       "      <td>GA</td>\n",
       "    </tr>\n",
       "    <tr>\n",
       "      <th>11</th>\n",
       "      <td>2012</td>\n",
       "      <td>82</td>\n",
       "      <td>12</td>\n",
       "      <td>Hawaii</td>\n",
       "      <td>44.5%</td>\n",
       "      <td>44.2%</td>\n",
       "      <td>39.9%</td>\n",
       "      <td>437,159</td>\n",
       "      <td>434,697</td>\n",
       "      <td>982,902</td>\n",
       "      <td>1088335.0</td>\n",
       "      <td>9.2%</td>\n",
       "      <td>5,544</td>\n",
       "      <td>0</td>\n",
       "      <td>0</td>\n",
       "      <td>5,544</td>\n",
       "      <td>HI</td>\n",
       "    </tr>\n",
       "    <tr>\n",
       "      <th>12</th>\n",
       "      <td>2012</td>\n",
       "      <td>63</td>\n",
       "      <td>13</td>\n",
       "      <td>Idaho</td>\n",
       "      <td>61.0%</td>\n",
       "      <td>59.8%</td>\n",
       "      <td>55.6%</td>\n",
       "      <td>666,290</td>\n",
       "      <td>652,274</td>\n",
       "      <td>1,091,410</td>\n",
       "      <td>1173727.0</td>\n",
       "      <td>4.6%</td>\n",
       "      <td>7,985</td>\n",
       "      <td>31,606</td>\n",
       "      <td>3,848</td>\n",
       "      <td>28,584</td>\n",
       "      <td>ID</td>\n",
       "    </tr>\n",
       "    <tr>\n",
       "      <th>13</th>\n",
       "      <td>2012</td>\n",
       "      <td>21</td>\n",
       "      <td>14</td>\n",
       "      <td>Illinois</td>\n",
       "      <td>59.3%</td>\n",
       "      <td>58.9%</td>\n",
       "      <td>53.3%</td>\n",
       "      <td>5,279,752</td>\n",
       "      <td>5,242,014</td>\n",
       "      <td>8,899,143</td>\n",
       "      <td>9827043.0</td>\n",
       "      <td>8.9%</td>\n",
       "      <td>49,348</td>\n",
       "      <td>0</td>\n",
       "      <td>0</td>\n",
       "      <td>49,348</td>\n",
       "      <td>IL</td>\n",
       "    </tr>\n",
       "    <tr>\n",
       "      <th>14</th>\n",
       "      <td>2012</td>\n",
       "      <td>22</td>\n",
       "      <td>15</td>\n",
       "      <td>Indiana</td>\n",
       "      <td>56.0%</td>\n",
       "      <td>55.2%</td>\n",
       "      <td>52.9%</td>\n",
       "      <td>2,663,368</td>\n",
       "      <td>2,624,534</td>\n",
       "      <td>4,755,291</td>\n",
       "      <td>4960376.0</td>\n",
       "      <td>3.6%</td>\n",
       "      <td>28,266</td>\n",
       "      <td>0</td>\n",
       "      <td>0</td>\n",
       "      <td>28,266</td>\n",
       "      <td>IN</td>\n",
       "    </tr>\n",
       "    <tr>\n",
       "      <th>15</th>\n",
       "      <td>2012</td>\n",
       "      <td>31</td>\n",
       "      <td>16</td>\n",
       "      <td>Iowa</td>\n",
       "      <td>70.6%</td>\n",
       "      <td>70.3%</td>\n",
       "      <td>67.1%</td>\n",
       "      <td>1,589,951</td>\n",
       "      <td>1,582,180</td>\n",
       "      <td>2,251,748</td>\n",
       "      <td>2356209.0</td>\n",
       "      <td>3.2%</td>\n",
       "      <td>8,470</td>\n",
       "      <td>29,333</td>\n",
       "      <td>5,151</td>\n",
       "      <td>29,167</td>\n",
       "      <td>IA</td>\n",
       "    </tr>\n",
       "    <tr>\n",
       "      <th>16</th>\n",
       "      <td>2012</td>\n",
       "      <td>32</td>\n",
       "      <td>17</td>\n",
       "      <td>Kansas</td>\n",
       "      <td>58.2%</td>\n",
       "      <td>56.9%</td>\n",
       "      <td>53.5%</td>\n",
       "      <td>1,182,771</td>\n",
       "      <td>1,156,254</td>\n",
       "      <td>2,030,686</td>\n",
       "      <td>2162442.0</td>\n",
       "      <td>5.0%</td>\n",
       "      <td>9,346</td>\n",
       "      <td>17,021</td>\n",
       "      <td>5,126</td>\n",
       "      <td>23,493</td>\n",
       "      <td>KS</td>\n",
       "    </tr>\n",
       "    <tr>\n",
       "      <th>17</th>\n",
       "      <td>2012</td>\n",
       "      <td>51</td>\n",
       "      <td>18</td>\n",
       "      <td>Kentucky</td>\n",
       "      <td>56.2%</td>\n",
       "      <td>55.7%</td>\n",
       "      <td>53.4%</td>\n",
       "      <td>1,815,843</td>\n",
       "      <td>1,797,212</td>\n",
       "      <td>3,229,185</td>\n",
       "      <td>3368684.0</td>\n",
       "      <td>2.2%</td>\n",
       "      <td>21,863</td>\n",
       "      <td>54,511</td>\n",
       "      <td>14,419</td>\n",
       "      <td>65,173</td>\n",
       "      <td>KY</td>\n",
       "    </tr>\n",
       "    <tr>\n",
       "      <th>18</th>\n",
       "      <td>2012</td>\n",
       "      <td>45</td>\n",
       "      <td>19</td>\n",
       "      <td>Louisiana</td>\n",
       "      <td>60.8%</td>\n",
       "      <td>60.2%</td>\n",
       "      <td>57.0%</td>\n",
       "      <td>2,014,548</td>\n",
       "      <td>1,994,065</td>\n",
       "      <td>3,311,626</td>\n",
       "      <td>3495847.0</td>\n",
       "      <td>2.7%</td>\n",
       "      <td>40,047</td>\n",
       "      <td>41,298</td>\n",
       "      <td>28,946</td>\n",
       "      <td>90,881</td>\n",
       "      <td>LA</td>\n",
       "    </tr>\n",
       "    <tr>\n",
       "      <th>19</th>\n",
       "      <td>2012</td>\n",
       "      <td>2</td>\n",
       "      <td>20</td>\n",
       "      <td>Maine</td>\n",
       "      <td>69.3%</td>\n",
       "      <td>68.2%</td>\n",
       "      <td>67.0%</td>\n",
       "      <td>724,758</td>\n",
       "      <td>713,180</td>\n",
       "      <td>1,046,008</td>\n",
       "      <td>1064779.0</td>\n",
       "      <td>1.8%</td>\n",
       "      <td>0</td>\n",
       "      <td>0</td>\n",
       "      <td>0</td>\n",
       "      <td>0</td>\n",
       "      <td>ME</td>\n",
       "    </tr>\n",
       "    <tr>\n",
       "      <th>20</th>\n",
       "      <td>2012</td>\n",
       "      <td>52</td>\n",
       "      <td>21</td>\n",
       "      <td>Maryland</td>\n",
       "      <td>67.3%</td>\n",
       "      <td>66.6%</td>\n",
       "      <td>59.5%</td>\n",
       "      <td>2,734,062</td>\n",
       "      <td>2,707,327</td>\n",
       "      <td>4,063,582</td>\n",
       "      <td>4553853.0</td>\n",
       "      <td>8.9%</td>\n",
       "      <td>20,871</td>\n",
       "      <td>96,640</td>\n",
       "      <td>13,195</td>\n",
       "      <td>85,285</td>\n",
       "      <td>MD</td>\n",
       "    </tr>\n",
       "    <tr>\n",
       "      <th>21</th>\n",
       "      <td>2012</td>\n",
       "      <td>3</td>\n",
       "      <td>22</td>\n",
       "      <td>Massachusetts</td>\n",
       "      <td>66.2%</td>\n",
       "      <td>65.9%</td>\n",
       "      <td>60.2%</td>\n",
       "      <td>3,184,196</td>\n",
       "      <td>3,167,767</td>\n",
       "      <td>4,809,675</td>\n",
       "      <td>5263550.0</td>\n",
       "      <td>8.4%</td>\n",
       "      <td>10,283</td>\n",
       "      <td>0</td>\n",
       "      <td>0</td>\n",
       "      <td>10,283</td>\n",
       "      <td>MA</td>\n",
       "    </tr>\n",
       "    <tr>\n",
       "      <th>22</th>\n",
       "      <td>2012</td>\n",
       "      <td>23</td>\n",
       "      <td>23</td>\n",
       "      <td>Michigan</td>\n",
       "      <td>65.4%</td>\n",
       "      <td>64.7%</td>\n",
       "      <td>62.0%</td>\n",
       "      <td>4,780,701</td>\n",
       "      <td>4,730,961</td>\n",
       "      <td>7,312,725</td>\n",
       "      <td>7625576.0</td>\n",
       "      <td>3.5%</td>\n",
       "      <td>43,019</td>\n",
       "      <td>0</td>\n",
       "      <td>0</td>\n",
       "      <td>43,019</td>\n",
       "      <td>MI</td>\n",
       "    </tr>\n",
       "    <tr>\n",
       "      <th>23</th>\n",
       "      <td>2012</td>\n",
       "      <td>33</td>\n",
       "      <td>24</td>\n",
       "      <td>Minnesota</td>\n",
       "      <td>76.4%</td>\n",
       "      <td>76.0%</td>\n",
       "      <td>71.4%</td>\n",
       "      <td>2,950,780</td>\n",
       "      <td>2,936,561</td>\n",
       "      <td>3,861,598</td>\n",
       "      <td>4114820.0</td>\n",
       "      <td>4.4%</td>\n",
       "      <td>9,383</td>\n",
       "      <td>108,157</td>\n",
       "      <td>6,006</td>\n",
       "      <td>72,712</td>\n",
       "      <td>MN</td>\n",
       "    </tr>\n",
       "    <tr>\n",
       "      <th>24</th>\n",
       "      <td>2012</td>\n",
       "      <td>46</td>\n",
       "      <td>25</td>\n",
       "      <td>Mississippi</td>\n",
       "      <td>NaN</td>\n",
       "      <td>59.3%</td>\n",
       "      <td>57.2%</td>\n",
       "      <td>NaN</td>\n",
       "      <td>1,285,584</td>\n",
       "      <td>2,166,825</td>\n",
       "      <td>2246931.0</td>\n",
       "      <td>1.5%</td>\n",
       "      <td>22,305</td>\n",
       "      <td>30,768</td>\n",
       "      <td>6,804</td>\n",
       "      <td>45,416</td>\n",
       "      <td>MS</td>\n",
       "    </tr>\n",
       "    <tr>\n",
       "      <th>25</th>\n",
       "      <td>2012</td>\n",
       "      <td>34</td>\n",
       "      <td>26</td>\n",
       "      <td>Missouri</td>\n",
       "      <td>NaN</td>\n",
       "      <td>62.2%</td>\n",
       "      <td>59.6%</td>\n",
       "      <td>NaN</td>\n",
       "      <td>2,757,323</td>\n",
       "      <td>4,432,957</td>\n",
       "      <td>4628500.0</td>\n",
       "      <td>2.5%</td>\n",
       "      <td>30,714</td>\n",
       "      <td>55,470</td>\n",
       "      <td>20,672</td>\n",
       "      <td>80,785</td>\n",
       "      <td>MO</td>\n",
       "    </tr>\n",
       "    <tr>\n",
       "      <th>26</th>\n",
       "      <td>2012</td>\n",
       "      <td>64</td>\n",
       "      <td>27</td>\n",
       "      <td>Montana</td>\n",
       "      <td>63.5%</td>\n",
       "      <td>62.5%</td>\n",
       "      <td>61.6%</td>\n",
       "      <td>491,966</td>\n",
       "      <td>484,048</td>\n",
       "      <td>774,476</td>\n",
       "      <td>785454.0</td>\n",
       "      <td>0.9%</td>\n",
       "      <td>3,592</td>\n",
       "      <td>0</td>\n",
       "      <td>0</td>\n",
       "      <td>3,592</td>\n",
       "      <td>MT</td>\n",
       "    </tr>\n",
       "    <tr>\n",
       "      <th>27</th>\n",
       "      <td>2012</td>\n",
       "      <td>35</td>\n",
       "      <td>28</td>\n",
       "      <td>Nebraska</td>\n",
       "      <td>61.1%</td>\n",
       "      <td>60.3%</td>\n",
       "      <td>56.9%</td>\n",
       "      <td>804,245</td>\n",
       "      <td>794,379</td>\n",
       "      <td>1,316,915</td>\n",
       "      <td>1396507.0</td>\n",
       "      <td>4.7%</td>\n",
       "      <td>4,466</td>\n",
       "      <td>14,260</td>\n",
       "      <td>1,383</td>\n",
       "      <td>13,407</td>\n",
       "      <td>NE</td>\n",
       "    </tr>\n",
       "    <tr>\n",
       "      <th>28</th>\n",
       "      <td>2012</td>\n",
       "      <td>65</td>\n",
       "      <td>29</td>\n",
       "      <td>Nevada</td>\n",
       "      <td>56.5%</td>\n",
       "      <td>56.4%</td>\n",
       "      <td>48.2%</td>\n",
       "      <td>1,016,664</td>\n",
       "      <td>1,014,918</td>\n",
       "      <td>1,800,969</td>\n",
       "      <td>2105976.0</td>\n",
       "      <td>13.3%</td>\n",
       "      <td>12,883</td>\n",
       "      <td>11,321</td>\n",
       "      <td>5,379</td>\n",
       "      <td>24,262</td>\n",
       "      <td>NV</td>\n",
       "    </tr>\n",
       "    <tr>\n",
       "      <th>29</th>\n",
       "      <td>2012</td>\n",
       "      <td>4</td>\n",
       "      <td>30</td>\n",
       "      <td>New Hampshire</td>\n",
       "      <td>70.9%</td>\n",
       "      <td>70.2%</td>\n",
       "      <td>67.8%</td>\n",
       "      <td>718,700</td>\n",
       "      <td>710,972</td>\n",
       "      <td>1,013,420</td>\n",
       "      <td>1047978.0</td>\n",
       "      <td>3.0%</td>\n",
       "      <td>2,672</td>\n",
       "      <td>0</td>\n",
       "      <td>0</td>\n",
       "      <td>2,672</td>\n",
       "      <td>NH</td>\n",
       "    </tr>\n",
       "    <tr>\n",
       "      <th>30</th>\n",
       "      <td>2012</td>\n",
       "      <td>12</td>\n",
       "      <td>31</td>\n",
       "      <td>New Jersey</td>\n",
       "      <td>62.2%</td>\n",
       "      <td>61.5%</td>\n",
       "      <td>53.2%</td>\n",
       "      <td>3,683,638</td>\n",
       "      <td>3,640,292</td>\n",
       "      <td>5,918,182</td>\n",
       "      <td>6847503.0</td>\n",
       "      <td>12.1%</td>\n",
       "      <td>21,759</td>\n",
       "      <td>114,886</td>\n",
       "      <td>14,987</td>\n",
       "      <td>97,636</td>\n",
       "      <td>NJ</td>\n",
       "    </tr>\n",
       "    <tr>\n",
       "      <th>31</th>\n",
       "      <td>2012</td>\n",
       "      <td>66</td>\n",
       "      <td>32</td>\n",
       "      <td>New Mexico</td>\n",
       "      <td>54.8%</td>\n",
       "      <td>54.6%</td>\n",
       "      <td>49.8%</td>\n",
       "      <td>786,522</td>\n",
       "      <td>783,757</td>\n",
       "      <td>1,436,363</td>\n",
       "      <td>1573400.0</td>\n",
       "      <td>7.3%</td>\n",
       "      <td>6,553</td>\n",
       "      <td>21,381</td>\n",
       "      <td>5,078</td>\n",
       "      <td>22,963</td>\n",
       "      <td>NM</td>\n",
       "    </tr>\n",
       "    <tr>\n",
       "      <th>32</th>\n",
       "      <td>2012</td>\n",
       "      <td>13</td>\n",
       "      <td>33</td>\n",
       "      <td>New York</td>\n",
       "      <td>53.5%</td>\n",
       "      <td>53.1%</td>\n",
       "      <td>46.1%</td>\n",
       "      <td>7,128,852</td>\n",
       "      <td>7,074,723</td>\n",
       "      <td>13,324,107</td>\n",
       "      <td>15344671.0</td>\n",
       "      <td>12.5%</td>\n",
       "      <td>49,889</td>\n",
       "      <td>0</td>\n",
       "      <td>46,222</td>\n",
       "      <td>96,111</td>\n",
       "      <td>NY</td>\n",
       "    </tr>\n",
       "    <tr>\n",
       "      <th>33</th>\n",
       "      <td>2012</td>\n",
       "      <td>47</td>\n",
       "      <td>34</td>\n",
       "      <td>North Carolina</td>\n",
       "      <td>65.4%</td>\n",
       "      <td>64.8%</td>\n",
       "      <td>60.1%</td>\n",
       "      <td>4,542,488</td>\n",
       "      <td>4,505,372</td>\n",
       "      <td>6,947,954</td>\n",
       "      <td>7496980.0</td>\n",
       "      <td>6.1%</td>\n",
       "      <td>35,567</td>\n",
       "      <td>96,070</td>\n",
       "      <td>4,359</td>\n",
       "      <td>90,843</td>\n",
       "      <td>NC</td>\n",
       "    </tr>\n",
       "    <tr>\n",
       "      <th>34</th>\n",
       "      <td>2012</td>\n",
       "      <td>36</td>\n",
       "      <td>35</td>\n",
       "      <td>North Dakota</td>\n",
       "      <td>60.4%</td>\n",
       "      <td>59.8%</td>\n",
       "      <td>58.7%</td>\n",
       "      <td>325,564</td>\n",
       "      <td>322,627</td>\n",
       "      <td>539,164</td>\n",
       "      <td>549955.0</td>\n",
       "      <td>1.7%</td>\n",
       "      <td>1,500</td>\n",
       "      <td>0</td>\n",
       "      <td>0</td>\n",
       "      <td>1,500</td>\n",
       "      <td>ND</td>\n",
       "    </tr>\n",
       "    <tr>\n",
       "      <th>35</th>\n",
       "      <td>2012</td>\n",
       "      <td>24</td>\n",
       "      <td>36</td>\n",
       "      <td>Ohio</td>\n",
       "      <td>65.1%</td>\n",
       "      <td>64.5%</td>\n",
       "      <td>62.7%</td>\n",
       "      <td>5,632,423</td>\n",
       "      <td>5,580,822</td>\n",
       "      <td>8,649,495</td>\n",
       "      <td>8896930.0</td>\n",
       "      <td>2.2%</td>\n",
       "      <td>50,313</td>\n",
       "      <td>0</td>\n",
       "      <td>0</td>\n",
       "      <td>50,313</td>\n",
       "      <td>OH</td>\n",
       "    </tr>\n",
       "    <tr>\n",
       "      <th>36</th>\n",
       "      <td>2012</td>\n",
       "      <td>53</td>\n",
       "      <td>37</td>\n",
       "      <td>Oklahoma</td>\n",
       "      <td>NaN</td>\n",
       "      <td>49.2%</td>\n",
       "      <td>46.3%</td>\n",
       "      <td>NaN</td>\n",
       "      <td>1,334,872</td>\n",
       "      <td>2,713,268</td>\n",
       "      <td>2885093.0</td>\n",
       "      <td>4.5%</td>\n",
       "      <td>25,225</td>\n",
       "      <td>25,506</td>\n",
       "      <td>2,310</td>\n",
       "      <td>41,053</td>\n",
       "      <td>OK</td>\n",
       "    </tr>\n",
       "    <tr>\n",
       "      <th>37</th>\n",
       "      <td>2012</td>\n",
       "      <td>72</td>\n",
       "      <td>38</td>\n",
       "      <td>Oregon</td>\n",
       "      <td>64.2%</td>\n",
       "      <td>63.1%</td>\n",
       "      <td>58.7%</td>\n",
       "      <td>1,820,507</td>\n",
       "      <td>1,789,270</td>\n",
       "      <td>2,836,101</td>\n",
       "      <td>3050747.0</td>\n",
       "      <td>6.6%</td>\n",
       "      <td>13,607</td>\n",
       "      <td>0</td>\n",
       "      <td>0</td>\n",
       "      <td>13,607</td>\n",
       "      <td>OR</td>\n",
       "    </tr>\n",
       "    <tr>\n",
       "      <th>38</th>\n",
       "      <td>2012</td>\n",
       "      <td>14</td>\n",
       "      <td>39</td>\n",
       "      <td>Pennsylvania</td>\n",
       "      <td>NaN</td>\n",
       "      <td>59.5%</td>\n",
       "      <td>57.2%</td>\n",
       "      <td>NaN</td>\n",
       "      <td>5,742,040</td>\n",
       "      <td>9,651,432</td>\n",
       "      <td>10037099.0</td>\n",
       "      <td>3.3%</td>\n",
       "      <td>50,054</td>\n",
       "      <td>0</td>\n",
       "      <td>0</td>\n",
       "      <td>50,054</td>\n",
       "      <td>PA</td>\n",
       "    </tr>\n",
       "    <tr>\n",
       "      <th>39</th>\n",
       "      <td>2012</td>\n",
       "      <td>5</td>\n",
       "      <td>40</td>\n",
       "      <td>Rhode Island</td>\n",
       "      <td>NaN</td>\n",
       "      <td>58.0%</td>\n",
       "      <td>53.4%</td>\n",
       "      <td>NaN</td>\n",
       "      <td>446,049</td>\n",
       "      <td>768,918</td>\n",
       "      <td>834983.0</td>\n",
       "      <td>7.5%</td>\n",
       "      <td>3,249</td>\n",
       "      <td>0</td>\n",
       "      <td>0</td>\n",
       "      <td>3,249</td>\n",
       "      <td>RI</td>\n",
       "    </tr>\n",
       "    <tr>\n",
       "      <th>40</th>\n",
       "      <td>2012</td>\n",
       "      <td>48</td>\n",
       "      <td>41</td>\n",
       "      <td>South Carolina</td>\n",
       "      <td>56.8%</td>\n",
       "      <td>56.3%</td>\n",
       "      <td>53.6%</td>\n",
       "      <td>1,981,516</td>\n",
       "      <td>1,964,118</td>\n",
       "      <td>3,486,838</td>\n",
       "      <td>3662322.0</td>\n",
       "      <td>3.5%</td>\n",
       "      <td>21,895</td>\n",
       "      <td>34,945</td>\n",
       "      <td>6,116</td>\n",
       "      <td>46,532</td>\n",
       "      <td>SC</td>\n",
       "    </tr>\n",
       "    <tr>\n",
       "      <th>41</th>\n",
       "      <td>2012</td>\n",
       "      <td>37</td>\n",
       "      <td>42</td>\n",
       "      <td>South Dakota</td>\n",
       "      <td>60.1%</td>\n",
       "      <td>59.3%</td>\n",
       "      <td>57.6%</td>\n",
       "      <td>368,270</td>\n",
       "      <td>363,815</td>\n",
       "      <td>613,190</td>\n",
       "      <td>631472.0</td>\n",
       "      <td>1.9%</td>\n",
       "      <td>3,574</td>\n",
       "      <td>0</td>\n",
       "      <td>2,761</td>\n",
       "      <td>6,335</td>\n",
       "      <td>SD</td>\n",
       "    </tr>\n",
       "    <tr>\n",
       "      <th>42</th>\n",
       "      <td>2012</td>\n",
       "      <td>54</td>\n",
       "      <td>43</td>\n",
       "      <td>Tennessee</td>\n",
       "      <td>52.3%</td>\n",
       "      <td>51.9%</td>\n",
       "      <td>49.4%</td>\n",
       "      <td>2,478,870</td>\n",
       "      <td>2,458,577</td>\n",
       "      <td>4,736,084</td>\n",
       "      <td>4976284.0</td>\n",
       "      <td>3.3%</td>\n",
       "      <td>28,135</td>\n",
       "      <td>64,430</td>\n",
       "      <td>13,138</td>\n",
       "      <td>75,421</td>\n",
       "      <td>TN</td>\n",
       "    </tr>\n",
       "    <tr>\n",
       "      <th>43</th>\n",
       "      <td>2012</td>\n",
       "      <td>49</td>\n",
       "      <td>44</td>\n",
       "      <td>Texas</td>\n",
       "      <td>NaN</td>\n",
       "      <td>49.6%</td>\n",
       "      <td>41.7%</td>\n",
       "      <td>NaN</td>\n",
       "      <td>7,993,851</td>\n",
       "      <td>16,119,973</td>\n",
       "      <td>19185395.0</td>\n",
       "      <td>13.5%</td>\n",
       "      <td>157,564</td>\n",
       "      <td>405,473</td>\n",
       "      <td>112,288</td>\n",
       "      <td>484,753</td>\n",
       "      <td>TX</td>\n",
       "    </tr>\n",
       "    <tr>\n",
       "      <th>44</th>\n",
       "      <td>2012</td>\n",
       "      <td>67</td>\n",
       "      <td>45</td>\n",
       "      <td>Utah</td>\n",
       "      <td>56.1%</td>\n",
       "      <td>55.5%</td>\n",
       "      <td>51.4%</td>\n",
       "      <td>1,028,786</td>\n",
       "      <td>1,017,440</td>\n",
       "      <td>1,833,339</td>\n",
       "      <td>1978956.0</td>\n",
       "      <td>7.0%</td>\n",
       "      <td>6,611</td>\n",
       "      <td>0</td>\n",
       "      <td>0</td>\n",
       "      <td>6,611</td>\n",
       "      <td>UT</td>\n",
       "    </tr>\n",
       "    <tr>\n",
       "      <th>45</th>\n",
       "      <td>2012</td>\n",
       "      <td>6</td>\n",
       "      <td>46</td>\n",
       "      <td>Vermont</td>\n",
       "      <td>61.2%</td>\n",
       "      <td>60.7%</td>\n",
       "      <td>59.6%</td>\n",
       "      <td>301,793</td>\n",
       "      <td>299,290</td>\n",
       "      <td>493,355</td>\n",
       "      <td>502242.0</td>\n",
       "      <td>1.8%</td>\n",
       "      <td>0</td>\n",
       "      <td>0</td>\n",
       "      <td>0</td>\n",
       "      <td>0</td>\n",
       "      <td>VT</td>\n",
       "    </tr>\n",
       "    <tr>\n",
       "      <th>46</th>\n",
       "      <td>2012</td>\n",
       "      <td>40</td>\n",
       "      <td>47</td>\n",
       "      <td>Virginia</td>\n",
       "      <td>66.6%</td>\n",
       "      <td>66.1%</td>\n",
       "      <td>60.7%</td>\n",
       "      <td>3,888,186</td>\n",
       "      <td>3,854,489</td>\n",
       "      <td>5,834,676</td>\n",
       "      <td>6348827.0</td>\n",
       "      <td>7.1%</td>\n",
       "      <td>36,425</td>\n",
       "      <td>52,956</td>\n",
       "      <td>1,983</td>\n",
       "      <td>66,475</td>\n",
       "      <td>VA</td>\n",
       "    </tr>\n",
       "    <tr>\n",
       "      <th>47</th>\n",
       "      <td>2012</td>\n",
       "      <td>73</td>\n",
       "      <td>48</td>\n",
       "      <td>Washington</td>\n",
       "      <td>65.8%</td>\n",
       "      <td>64.8%</td>\n",
       "      <td>58.6%</td>\n",
       "      <td>3,172,939</td>\n",
       "      <td>3,125,516</td>\n",
       "      <td>4,822,060</td>\n",
       "      <td>5329782.0</td>\n",
       "      <td>8.2%</td>\n",
       "      <td>16,355</td>\n",
       "      <td>88,339</td>\n",
       "      <td>8,895</td>\n",
       "      <td>72,070</td>\n",
       "      <td>WA</td>\n",
       "    </tr>\n",
       "    <tr>\n",
       "      <th>48</th>\n",
       "      <td>2012</td>\n",
       "      <td>56</td>\n",
       "      <td>49</td>\n",
       "      <td>West Virginia</td>\n",
       "      <td>NaN</td>\n",
       "      <td>46.3%</td>\n",
       "      <td>45.5%</td>\n",
       "      <td>NaN</td>\n",
       "      <td>670,438</td>\n",
       "      <td>1,447,066</td>\n",
       "      <td>1472642.0</td>\n",
       "      <td>0.8%</td>\n",
       "      <td>7,052</td>\n",
       "      <td>8,573</td>\n",
       "      <td>2,052</td>\n",
       "      <td>13,648</td>\n",
       "      <td>WV</td>\n",
       "    </tr>\n",
       "    <tr>\n",
       "      <th>49</th>\n",
       "      <td>2012</td>\n",
       "      <td>25</td>\n",
       "      <td>50</td>\n",
       "      <td>Wisconsin</td>\n",
       "      <td>NaN</td>\n",
       "      <td>72.9%</td>\n",
       "      <td>69.5%</td>\n",
       "      <td>NaN</td>\n",
       "      <td>3,068,434</td>\n",
       "      <td>4,209,370</td>\n",
       "      <td>4417273.0</td>\n",
       "      <td>3.2%</td>\n",
       "      <td>21,987</td>\n",
       "      <td>46,328</td>\n",
       "      <td>20,023</td>\n",
       "      <td>66,564</td>\n",
       "      <td>WI</td>\n",
       "    </tr>\n",
       "    <tr>\n",
       "      <th>50</th>\n",
       "      <td>2012</td>\n",
       "      <td>68</td>\n",
       "      <td>51</td>\n",
       "      <td>Wyoming</td>\n",
       "      <td>59.0%</td>\n",
       "      <td>58.6%</td>\n",
       "      <td>56.4%</td>\n",
       "      <td>250,701</td>\n",
       "      <td>249,061</td>\n",
       "      <td>425,142</td>\n",
       "      <td>441726.0</td>\n",
       "      <td>2.5%</td>\n",
       "      <td>2,163</td>\n",
       "      <td>5,162</td>\n",
       "      <td>762</td>\n",
       "      <td>5,661</td>\n",
       "      <td>WY</td>\n",
       "    </tr>\n",
       "  </tbody>\n",
       "</table>\n",
       "</div>"
      ],
      "text/plain": [
       "    Year  ICPSR State Code  Alphanumeric State Code                 State  \\\n",
       "0   2012                41                        1               Alabama   \n",
       "1   2012                81                        2                Alaska   \n",
       "2   2012                61                        3               Arizona   \n",
       "3   2012                42                        4              Arkansas   \n",
       "4   2012                71                        5            California   \n",
       "5   2012                62                        6              Colorado   \n",
       "6   2012                 1                        7           Connecticut   \n",
       "7   2012                11                        8              Delaware   \n",
       "8   2012                55                        9  District of Columbia   \n",
       "9   2012                43                       10               Florida   \n",
       "10  2012                44                       11               Georgia   \n",
       "11  2012                82                       12                Hawaii   \n",
       "12  2012                63                       13                 Idaho   \n",
       "13  2012                21                       14              Illinois   \n",
       "14  2012                22                       15               Indiana   \n",
       "15  2012                31                       16                  Iowa   \n",
       "16  2012                32                       17                Kansas   \n",
       "17  2012                51                       18              Kentucky   \n",
       "18  2012                45                       19             Louisiana   \n",
       "19  2012                 2                       20                 Maine   \n",
       "20  2012                52                       21              Maryland   \n",
       "21  2012                 3                       22         Massachusetts   \n",
       "22  2012                23                       23              Michigan   \n",
       "23  2012                33                       24             Minnesota   \n",
       "24  2012                46                       25           Mississippi   \n",
       "25  2012                34                       26              Missouri   \n",
       "26  2012                64                       27               Montana   \n",
       "27  2012                35                       28              Nebraska   \n",
       "28  2012                65                       29                Nevada   \n",
       "29  2012                 4                       30         New Hampshire   \n",
       "30  2012                12                       31            New Jersey   \n",
       "31  2012                66                       32            New Mexico   \n",
       "32  2012                13                       33              New York   \n",
       "33  2012                47                       34        North Carolina   \n",
       "34  2012                36                       35          North Dakota   \n",
       "35  2012                24                       36                  Ohio   \n",
       "36  2012                53                       37              Oklahoma   \n",
       "37  2012                72                       38                Oregon   \n",
       "38  2012                14                       39          Pennsylvania   \n",
       "39  2012                 5                       40          Rhode Island   \n",
       "40  2012                48                       41        South Carolina   \n",
       "41  2012                37                       42          South Dakota   \n",
       "42  2012                54                       43             Tennessee   \n",
       "43  2012                49                       44                 Texas   \n",
       "44  2012                67                       45                  Utah   \n",
       "45  2012                 6                       46               Vermont   \n",
       "46  2012                40                       47              Virginia   \n",
       "47  2012                73                       48            Washington   \n",
       "48  2012                56                       49         West Virginia   \n",
       "49  2012                25                       50             Wisconsin   \n",
       "50  2012                68                       51               Wyoming   \n",
       "\n",
       "   VEP Total Ballots Counted VEP Highest Office VAP Highest Office  \\\n",
       "0                        NaN              58.6%              56.0%   \n",
       "1                      58.9%              58.7%              55.3%   \n",
       "2                      53.0%              52.6%              46.5%   \n",
       "3                      51.1%              50.7%              47.7%   \n",
       "4                      55.7%              55.1%              45.1%   \n",
       "5                      70.6%              69.9%              64.5%   \n",
       "6                      61.4%              61.3%              55.6%   \n",
       "7                        NaN              62.3%              57.8%   \n",
       "8                      61.6%              61.5%              55.5%   \n",
       "9                      63.3%              62.8%              55.1%   \n",
       "10                     59.3%              59.0%              52.3%   \n",
       "11                     44.5%              44.2%              39.9%   \n",
       "12                     61.0%              59.8%              55.6%   \n",
       "13                     59.3%              58.9%              53.3%   \n",
       "14                     56.0%              55.2%              52.9%   \n",
       "15                     70.6%              70.3%              67.1%   \n",
       "16                     58.2%              56.9%              53.5%   \n",
       "17                     56.2%              55.7%              53.4%   \n",
       "18                     60.8%              60.2%              57.0%   \n",
       "19                     69.3%              68.2%              67.0%   \n",
       "20                     67.3%              66.6%              59.5%   \n",
       "21                     66.2%              65.9%              60.2%   \n",
       "22                     65.4%              64.7%              62.0%   \n",
       "23                     76.4%              76.0%              71.4%   \n",
       "24                       NaN              59.3%              57.2%   \n",
       "25                       NaN              62.2%              59.6%   \n",
       "26                     63.5%              62.5%              61.6%   \n",
       "27                     61.1%              60.3%              56.9%   \n",
       "28                     56.5%              56.4%              48.2%   \n",
       "29                     70.9%              70.2%              67.8%   \n",
       "30                     62.2%              61.5%              53.2%   \n",
       "31                     54.8%              54.6%              49.8%   \n",
       "32                     53.5%              53.1%              46.1%   \n",
       "33                     65.4%              64.8%              60.1%   \n",
       "34                     60.4%              59.8%              58.7%   \n",
       "35                     65.1%              64.5%              62.7%   \n",
       "36                       NaN              49.2%              46.3%   \n",
       "37                     64.2%              63.1%              58.7%   \n",
       "38                       NaN              59.5%              57.2%   \n",
       "39                       NaN              58.0%              53.4%   \n",
       "40                     56.8%              56.3%              53.6%   \n",
       "41                     60.1%              59.3%              57.6%   \n",
       "42                     52.3%              51.9%              49.4%   \n",
       "43                       NaN              49.6%              41.7%   \n",
       "44                     56.1%              55.5%              51.4%   \n",
       "45                     61.2%              60.7%              59.6%   \n",
       "46                     66.6%              66.1%              60.7%   \n",
       "47                     65.8%              64.8%              58.6%   \n",
       "48                       NaN              46.3%              45.5%   \n",
       "49                       NaN              72.9%              69.5%   \n",
       "50                     59.0%              58.6%              56.4%   \n",
       "\n",
       "   Total Ballots Counted Highest Office Voting-Eligible Population (VEP)  \\\n",
       "0                    NaN      2,074,338                        3,539,217   \n",
       "1                301,694        300,495                          511,792   \n",
       "2              2,323,579      2,306,559                        4,387,900   \n",
       "3              1,078,548      1,069,468                        2,109,847   \n",
       "4             13,202,158     13,038,547                       23,681,837   \n",
       "5              2,596,173      2,569,522                        3,675,871   \n",
       "6              1,560,640      1,558,960                        2,543,202   \n",
       "7                    NaN        413,921                          663,967   \n",
       "8                294,254        293,764                          477,582   \n",
       "9              8,538,264      8,474,179                       13,495,057   \n",
       "10             3,919,355      3,900,050                        6,606,607   \n",
       "11               437,159        434,697                          982,902   \n",
       "12               666,290        652,274                        1,091,410   \n",
       "13             5,279,752      5,242,014                        8,899,143   \n",
       "14             2,663,368      2,624,534                        4,755,291   \n",
       "15             1,589,951      1,582,180                        2,251,748   \n",
       "16             1,182,771      1,156,254                        2,030,686   \n",
       "17             1,815,843      1,797,212                        3,229,185   \n",
       "18             2,014,548      1,994,065                        3,311,626   \n",
       "19               724,758        713,180                        1,046,008   \n",
       "20             2,734,062      2,707,327                        4,063,582   \n",
       "21             3,184,196      3,167,767                        4,809,675   \n",
       "22             4,780,701      4,730,961                        7,312,725   \n",
       "23             2,950,780      2,936,561                        3,861,598   \n",
       "24                   NaN      1,285,584                        2,166,825   \n",
       "25                   NaN      2,757,323                        4,432,957   \n",
       "26               491,966        484,048                          774,476   \n",
       "27               804,245        794,379                        1,316,915   \n",
       "28             1,016,664      1,014,918                        1,800,969   \n",
       "29               718,700        710,972                        1,013,420   \n",
       "30             3,683,638      3,640,292                        5,918,182   \n",
       "31               786,522        783,757                        1,436,363   \n",
       "32             7,128,852      7,074,723                       13,324,107   \n",
       "33             4,542,488      4,505,372                        6,947,954   \n",
       "34               325,564        322,627                          539,164   \n",
       "35             5,632,423      5,580,822                        8,649,495   \n",
       "36                   NaN      1,334,872                        2,713,268   \n",
       "37             1,820,507      1,789,270                        2,836,101   \n",
       "38                   NaN      5,742,040                        9,651,432   \n",
       "39                   NaN        446,049                          768,918   \n",
       "40             1,981,516      1,964,118                        3,486,838   \n",
       "41               368,270        363,815                          613,190   \n",
       "42             2,478,870      2,458,577                        4,736,084   \n",
       "43                   NaN      7,993,851                       16,119,973   \n",
       "44             1,028,786      1,017,440                        1,833,339   \n",
       "45               301,793        299,290                          493,355   \n",
       "46             3,888,186      3,854,489                        5,834,676   \n",
       "47             3,172,939      3,125,516                        4,822,060   \n",
       "48                   NaN        670,438                        1,447,066   \n",
       "49                   NaN      3,068,434                        4,209,370   \n",
       "50               250,701        249,061                          425,142   \n",
       "\n",
       "    Voting-Age Population (VAP) % Non-citizen   Prison Probation   Parole  \\\n",
       "0                     3707440.0          2.6%   32,232    57,993    8,616   \n",
       "1                      543763.0          3.8%    5,633     7,173    1,882   \n",
       "2                     4959270.0          9.9%   35,188    72,452    7,460   \n",
       "3                     2242740.0          3.5%   14,471    30,122   23,372   \n",
       "4                    28913129.0         17.4%  119,455         0   89,287   \n",
       "5                     3981208.0          6.9%   18,807         0   11,458   \n",
       "6                     2801375.0          8.5%   16,935         0    2,793   \n",
       "7                      715708.0          5.1%    6,610    15,641      601   \n",
       "8                      528848.0          9.7%        0         0        0   \n",
       "9                    15380947.0         10.8%   91,954   240,869    4,538   \n",
       "10                    7452696.0          7.2%   52,737   442,061   24,761   \n",
       "11                    1088335.0          9.2%    5,544         0        0   \n",
       "12                    1173727.0          4.6%    7,985    31,606    3,848   \n",
       "13                    9827043.0          8.9%   49,348         0        0   \n",
       "14                    4960376.0          3.6%   28,266         0        0   \n",
       "15                    2356209.0          3.2%    8,470    29,333    5,151   \n",
       "16                    2162442.0          5.0%    9,346    17,021    5,126   \n",
       "17                    3368684.0          2.2%   21,863    54,511   14,419   \n",
       "18                    3495847.0          2.7%   40,047    41,298   28,946   \n",
       "19                    1064779.0          1.8%        0         0        0   \n",
       "20                    4553853.0          8.9%   20,871    96,640   13,195   \n",
       "21                    5263550.0          8.4%   10,283         0        0   \n",
       "22                    7625576.0          3.5%   43,019         0        0   \n",
       "23                    4114820.0          4.4%    9,383   108,157    6,006   \n",
       "24                    2246931.0          1.5%   22,305    30,768    6,804   \n",
       "25                    4628500.0          2.5%   30,714    55,470   20,672   \n",
       "26                     785454.0          0.9%    3,592         0        0   \n",
       "27                    1396507.0          4.7%    4,466    14,260    1,383   \n",
       "28                    2105976.0         13.3%   12,883    11,321    5,379   \n",
       "29                    1047978.0          3.0%    2,672         0        0   \n",
       "30                    6847503.0         12.1%   21,759   114,886   14,987   \n",
       "31                    1573400.0          7.3%    6,553    21,381    5,078   \n",
       "32                   15344671.0         12.5%   49,889         0   46,222   \n",
       "33                    7496980.0          6.1%   35,567    96,070    4,359   \n",
       "34                     549955.0          1.7%    1,500         0        0   \n",
       "35                    8896930.0          2.2%   50,313         0        0   \n",
       "36                    2885093.0          4.5%   25,225    25,506    2,310   \n",
       "37                    3050747.0          6.6%   13,607         0        0   \n",
       "38                   10037099.0          3.3%   50,054         0        0   \n",
       "39                     834983.0          7.5%    3,249         0        0   \n",
       "40                    3662322.0          3.5%   21,895    34,945    6,116   \n",
       "41                     631472.0          1.9%    3,574         0    2,761   \n",
       "42                    4976284.0          3.3%   28,135    64,430   13,138   \n",
       "43                   19185395.0         13.5%  157,564   405,473  112,288   \n",
       "44                    1978956.0          7.0%    6,611         0        0   \n",
       "45                     502242.0          1.8%        0         0        0   \n",
       "46                    6348827.0          7.1%   36,425    52,956    1,983   \n",
       "47                    5329782.0          8.2%   16,355    88,339    8,895   \n",
       "48                    1472642.0          0.8%    7,052     8,573    2,052   \n",
       "49                    4417273.0          3.2%   21,987    46,328   20,023   \n",
       "50                     441726.0          2.5%    2,163     5,162      762   \n",
       "\n",
       "   Total Ineligible Felon             State Abv  \n",
       "0                  71,584                    AL  \n",
       "1                  11,317                    AK  \n",
       "2                  81,048                    AZ  \n",
       "3                  53,808                    AR  \n",
       "4                 208,742                    CA  \n",
       "5                  30,265                    CO  \n",
       "6                  19,728                    CT  \n",
       "7                  15,501                    DE  \n",
       "8                       0  District of Columbia  \n",
       "9                 224,153                    FL  \n",
       "10                311,790                    GA  \n",
       "11                  5,544                    HI  \n",
       "12                 28,584                    ID  \n",
       "13                 49,348                    IL  \n",
       "14                 28,266                    IN  \n",
       "15                 29,167                    IA  \n",
       "16                 23,493                    KS  \n",
       "17                 65,173                    KY  \n",
       "18                 90,881                    LA  \n",
       "19                      0                    ME  \n",
       "20                 85,285                    MD  \n",
       "21                 10,283                    MA  \n",
       "22                 43,019                    MI  \n",
       "23                 72,712                    MN  \n",
       "24                 45,416                    MS  \n",
       "25                 80,785                    MO  \n",
       "26                  3,592                    MT  \n",
       "27                 13,407                    NE  \n",
       "28                 24,262                    NV  \n",
       "29                  2,672                    NH  \n",
       "30                 97,636                    NJ  \n",
       "31                 22,963                    NM  \n",
       "32                 96,111                    NY  \n",
       "33                 90,843                    NC  \n",
       "34                  1,500                    ND  \n",
       "35                 50,313                    OH  \n",
       "36                 41,053                    OK  \n",
       "37                 13,607                    OR  \n",
       "38                 50,054                    PA  \n",
       "39                  3,249                    RI  \n",
       "40                 46,532                    SC  \n",
       "41                  6,335                    SD  \n",
       "42                 75,421                    TN  \n",
       "43                484,753                    TX  \n",
       "44                  6,611                    UT  \n",
       "45                      0                    VT  \n",
       "46                 66,475                    VA  \n",
       "47                 72,070                    WA  \n",
       "48                 13,648                    WV  \n",
       "49                 66,564                    WI  \n",
       "50                  5,661                    WY  "
      ]
     },
     "execution_count": 10,
     "metadata": {},
     "output_type": "execute_result"
    }
   ],
   "source": [
    "df1"
   ]
  },
  {
   "cell_type": "markdown",
   "metadata": {},
   "source": [
    "** Now create a plot that displays the Voting-Age Population (VAP) per state. If you later want to play around with other columns, make sure you consider their data type. VAP has already been transformed to a float for you. **"
   ]
  },
  {
   "cell_type": "code",
   "execution_count": 11,
   "metadata": {},
   "outputs": [],
   "source": [
    "data1 = dict(type='choropleth',\n",
    "            locations=df1['State Abv'],\n",
    "            locationmode = 'USA-states',\n",
    "            z=df1['Voting-Age Population (VAP)'],\n",
    "            text = df1['State'],\n",
    "            colorbar={'title':'Voting-Age Population (VAP) per state'})"
   ]
  },
  {
   "cell_type": "code",
   "execution_count": 12,
   "metadata": {
    "scrolled": false
   },
   "outputs": [
    {
     "data": {
      "text/plain": [
       "{'type': 'choropleth',\n",
       " 'locations': 0                       AL\n",
       " 1                       AK\n",
       " 2                       AZ\n",
       " 3                       AR\n",
       " 4                       CA\n",
       " 5                       CO\n",
       " 6                       CT\n",
       " 7                       DE\n",
       " 8     District of Columbia\n",
       " 9                       FL\n",
       " 10                      GA\n",
       " 11                      HI\n",
       " 12                      ID\n",
       " 13                      IL\n",
       " 14                      IN\n",
       " 15                      IA\n",
       " 16                      KS\n",
       " 17                      KY\n",
       " 18                      LA\n",
       " 19                      ME\n",
       " 20                      MD\n",
       " 21                      MA\n",
       " 22                      MI\n",
       " 23                      MN\n",
       " 24                      MS\n",
       " 25                      MO\n",
       " 26                      MT\n",
       " 27                      NE\n",
       " 28                      NV\n",
       " 29                      NH\n",
       " 30                      NJ\n",
       " 31                      NM\n",
       " 32                      NY\n",
       " 33                      NC\n",
       " 34                      ND\n",
       " 35                      OH\n",
       " 36                      OK\n",
       " 37                      OR\n",
       " 38                      PA\n",
       " 39                      RI\n",
       " 40                      SC\n",
       " 41                      SD\n",
       " 42                      TN\n",
       " 43                      TX\n",
       " 44                      UT\n",
       " 45                      VT\n",
       " 46                      VA\n",
       " 47                      WA\n",
       " 48                      WV\n",
       " 49                      WI\n",
       " 50                      WY\n",
       " Name: State Abv, dtype: object,\n",
       " 'locationmode': 'USA-states',\n",
       " 'z': 0      3707440.0\n",
       " 1       543763.0\n",
       " 2      4959270.0\n",
       " 3      2242740.0\n",
       " 4     28913129.0\n",
       " 5      3981208.0\n",
       " 6      2801375.0\n",
       " 7       715708.0\n",
       " 8       528848.0\n",
       " 9     15380947.0\n",
       " 10     7452696.0\n",
       " 11     1088335.0\n",
       " 12     1173727.0\n",
       " 13     9827043.0\n",
       " 14     4960376.0\n",
       " 15     2356209.0\n",
       " 16     2162442.0\n",
       " 17     3368684.0\n",
       " 18     3495847.0\n",
       " 19     1064779.0\n",
       " 20     4553853.0\n",
       " 21     5263550.0\n",
       " 22     7625576.0\n",
       " 23     4114820.0\n",
       " 24     2246931.0\n",
       " 25     4628500.0\n",
       " 26      785454.0\n",
       " 27     1396507.0\n",
       " 28     2105976.0\n",
       " 29     1047978.0\n",
       " 30     6847503.0\n",
       " 31     1573400.0\n",
       " 32    15344671.0\n",
       " 33     7496980.0\n",
       " 34      549955.0\n",
       " 35     8896930.0\n",
       " 36     2885093.0\n",
       " 37     3050747.0\n",
       " 38    10037099.0\n",
       " 39      834983.0\n",
       " 40     3662322.0\n",
       " 41      631472.0\n",
       " 42     4976284.0\n",
       " 43    19185395.0\n",
       " 44     1978956.0\n",
       " 45      502242.0\n",
       " 46     6348827.0\n",
       " 47     5329782.0\n",
       " 48     1472642.0\n",
       " 49     4417273.0\n",
       " 50      441726.0\n",
       " Name: Voting-Age Population (VAP), dtype: float64,\n",
       " 'text': 0                  Alabama\n",
       " 1                   Alaska\n",
       " 2                  Arizona\n",
       " 3                 Arkansas\n",
       " 4               California\n",
       " 5                 Colorado\n",
       " 6              Connecticut\n",
       " 7                 Delaware\n",
       " 8     District of Columbia\n",
       " 9                  Florida\n",
       " 10                 Georgia\n",
       " 11                  Hawaii\n",
       " 12                   Idaho\n",
       " 13                Illinois\n",
       " 14                 Indiana\n",
       " 15                    Iowa\n",
       " 16                  Kansas\n",
       " 17                Kentucky\n",
       " 18               Louisiana\n",
       " 19                   Maine\n",
       " 20                Maryland\n",
       " 21           Massachusetts\n",
       " 22                Michigan\n",
       " 23               Minnesota\n",
       " 24             Mississippi\n",
       " 25                Missouri\n",
       " 26                 Montana\n",
       " 27                Nebraska\n",
       " 28                  Nevada\n",
       " 29           New Hampshire\n",
       " 30              New Jersey\n",
       " 31              New Mexico\n",
       " 32                New York\n",
       " 33          North Carolina\n",
       " 34            North Dakota\n",
       " 35                    Ohio\n",
       " 36                Oklahoma\n",
       " 37                  Oregon\n",
       " 38            Pennsylvania\n",
       " 39            Rhode Island\n",
       " 40          South Carolina\n",
       " 41            South Dakota\n",
       " 42               Tennessee\n",
       " 43                   Texas\n",
       " 44                    Utah\n",
       " 45                 Vermont\n",
       " 46                Virginia\n",
       " 47              Washington\n",
       " 48           West Virginia\n",
       " 49               Wisconsin\n",
       " 50                 Wyoming\n",
       " Name: State, dtype: object,\n",
       " 'colorbar': {'title': 'Voting-Age Population (VAP) per state'}}"
      ]
     },
     "execution_count": 12,
     "metadata": {},
     "output_type": "execute_result"
    }
   ],
   "source": [
    "data1"
   ]
  },
  {
   "cell_type": "code",
   "execution_count": 15,
   "metadata": {},
   "outputs": [],
   "source": [
    "layout = dict(geo={'scope':'usa'})"
   ]
  },
  {
   "cell_type": "code",
   "execution_count": 16,
   "metadata": {},
   "outputs": [
    {
     "data": {
      "application/vnd.plotly.v1+json": {
       "config": {
        "linkText": "Export to plot.ly",
        "plotlyServerURL": "https://plot.ly",
        "showLink": false
       },
       "data": [
        {
         "colorbar": {
          "title": {
           "text": "Voting-Age Population (VAP) per state"
          }
         },
         "locationmode": "USA-states",
         "locations": [
          "AL",
          "AK",
          "AZ",
          "AR",
          "CA",
          "CO",
          "CT",
          "DE",
          "District of Columbia",
          "FL",
          "GA",
          "HI",
          "ID",
          "IL",
          "IN",
          "IA",
          "KS",
          "KY",
          "LA",
          "ME",
          "MD",
          "MA",
          "MI",
          "MN",
          "MS",
          "MO",
          "MT",
          "NE",
          "NV",
          "NH",
          "NJ",
          "NM",
          "NY",
          "NC",
          "ND",
          "OH",
          "OK",
          "OR",
          "PA",
          "RI",
          "SC",
          "SD",
          "TN",
          "TX",
          "UT",
          "VT",
          "VA",
          "WA",
          "WV",
          "WI",
          "WY"
         ],
         "text": [
          "Alabama",
          "Alaska",
          "Arizona",
          "Arkansas",
          "California",
          "Colorado",
          "Connecticut",
          "Delaware",
          "District of Columbia",
          "Florida",
          "Georgia",
          "Hawaii",
          "Idaho",
          "Illinois",
          "Indiana",
          "Iowa",
          "Kansas",
          "Kentucky",
          "Louisiana",
          "Maine",
          "Maryland",
          "Massachusetts",
          "Michigan",
          "Minnesota",
          "Mississippi",
          "Missouri",
          "Montana",
          "Nebraska",
          "Nevada",
          "New Hampshire",
          "New Jersey",
          "New Mexico",
          "New York",
          "North Carolina",
          "North Dakota",
          "Ohio",
          "Oklahoma",
          "Oregon",
          "Pennsylvania",
          "Rhode Island",
          "South Carolina",
          "South Dakota",
          "Tennessee",
          "Texas",
          "Utah",
          "Vermont",
          "Virginia",
          "Washington",
          "West Virginia",
          "Wisconsin",
          "Wyoming"
         ],
         "type": "choropleth",
         "z": [
          3707440,
          543763,
          4959270,
          2242740,
          28913129,
          3981208,
          2801375,
          715708,
          528848,
          15380947,
          7452696,
          1088335,
          1173727,
          9827043,
          4960376,
          2356209,
          2162442,
          3368684,
          3495847,
          1064779,
          4553853,
          5263550,
          7625576,
          4114820,
          2246931,
          4628500,
          785454,
          1396507,
          2105976,
          1047978,
          6847503,
          1573400,
          15344671,
          7496980,
          549955,
          8896930,
          2885093,
          3050747,
          10037099,
          834983,
          3662322,
          631472,
          4976284,
          19185395,
          1978956,
          502242,
          6348827,
          5329782,
          1472642,
          4417273,
          441726
         ]
        }
       ],
       "layout": {
        "geo": {
         "scope": "usa"
        },
        "template": {
         "data": {
          "bar": [
           {
            "error_x": {
             "color": "#2a3f5f"
            },
            "error_y": {
             "color": "#2a3f5f"
            },
            "marker": {
             "line": {
              "color": "#E5ECF6",
              "width": 0.5
             }
            },
            "type": "bar"
           }
          ],
          "barpolar": [
           {
            "marker": {
             "line": {
              "color": "#E5ECF6",
              "width": 0.5
             }
            },
            "type": "barpolar"
           }
          ],
          "carpet": [
           {
            "aaxis": {
             "endlinecolor": "#2a3f5f",
             "gridcolor": "white",
             "linecolor": "white",
             "minorgridcolor": "white",
             "startlinecolor": "#2a3f5f"
            },
            "baxis": {
             "endlinecolor": "#2a3f5f",
             "gridcolor": "white",
             "linecolor": "white",
             "minorgridcolor": "white",
             "startlinecolor": "#2a3f5f"
            },
            "type": "carpet"
           }
          ],
          "choropleth": [
           {
            "colorbar": {
             "outlinewidth": 0,
             "ticks": ""
            },
            "type": "choropleth"
           }
          ],
          "contour": [
           {
            "colorbar": {
             "outlinewidth": 0,
             "ticks": ""
            },
            "colorscale": [
             [
              0,
              "#0d0887"
             ],
             [
              0.1111111111111111,
              "#46039f"
             ],
             [
              0.2222222222222222,
              "#7201a8"
             ],
             [
              0.3333333333333333,
              "#9c179e"
             ],
             [
              0.4444444444444444,
              "#bd3786"
             ],
             [
              0.5555555555555556,
              "#d8576b"
             ],
             [
              0.6666666666666666,
              "#ed7953"
             ],
             [
              0.7777777777777778,
              "#fb9f3a"
             ],
             [
              0.8888888888888888,
              "#fdca26"
             ],
             [
              1,
              "#f0f921"
             ]
            ],
            "type": "contour"
           }
          ],
          "contourcarpet": [
           {
            "colorbar": {
             "outlinewidth": 0,
             "ticks": ""
            },
            "type": "contourcarpet"
           }
          ],
          "heatmap": [
           {
            "colorbar": {
             "outlinewidth": 0,
             "ticks": ""
            },
            "colorscale": [
             [
              0,
              "#0d0887"
             ],
             [
              0.1111111111111111,
              "#46039f"
             ],
             [
              0.2222222222222222,
              "#7201a8"
             ],
             [
              0.3333333333333333,
              "#9c179e"
             ],
             [
              0.4444444444444444,
              "#bd3786"
             ],
             [
              0.5555555555555556,
              "#d8576b"
             ],
             [
              0.6666666666666666,
              "#ed7953"
             ],
             [
              0.7777777777777778,
              "#fb9f3a"
             ],
             [
              0.8888888888888888,
              "#fdca26"
             ],
             [
              1,
              "#f0f921"
             ]
            ],
            "type": "heatmap"
           }
          ],
          "heatmapgl": [
           {
            "colorbar": {
             "outlinewidth": 0,
             "ticks": ""
            },
            "colorscale": [
             [
              0,
              "#0d0887"
             ],
             [
              0.1111111111111111,
              "#46039f"
             ],
             [
              0.2222222222222222,
              "#7201a8"
             ],
             [
              0.3333333333333333,
              "#9c179e"
             ],
             [
              0.4444444444444444,
              "#bd3786"
             ],
             [
              0.5555555555555556,
              "#d8576b"
             ],
             [
              0.6666666666666666,
              "#ed7953"
             ],
             [
              0.7777777777777778,
              "#fb9f3a"
             ],
             [
              0.8888888888888888,
              "#fdca26"
             ],
             [
              1,
              "#f0f921"
             ]
            ],
            "type": "heatmapgl"
           }
          ],
          "histogram": [
           {
            "marker": {
             "colorbar": {
              "outlinewidth": 0,
              "ticks": ""
             }
            },
            "type": "histogram"
           }
          ],
          "histogram2d": [
           {
            "colorbar": {
             "outlinewidth": 0,
             "ticks": ""
            },
            "colorscale": [
             [
              0,
              "#0d0887"
             ],
             [
              0.1111111111111111,
              "#46039f"
             ],
             [
              0.2222222222222222,
              "#7201a8"
             ],
             [
              0.3333333333333333,
              "#9c179e"
             ],
             [
              0.4444444444444444,
              "#bd3786"
             ],
             [
              0.5555555555555556,
              "#d8576b"
             ],
             [
              0.6666666666666666,
              "#ed7953"
             ],
             [
              0.7777777777777778,
              "#fb9f3a"
             ],
             [
              0.8888888888888888,
              "#fdca26"
             ],
             [
              1,
              "#f0f921"
             ]
            ],
            "type": "histogram2d"
           }
          ],
          "histogram2dcontour": [
           {
            "colorbar": {
             "outlinewidth": 0,
             "ticks": ""
            },
            "colorscale": [
             [
              0,
              "#0d0887"
             ],
             [
              0.1111111111111111,
              "#46039f"
             ],
             [
              0.2222222222222222,
              "#7201a8"
             ],
             [
              0.3333333333333333,
              "#9c179e"
             ],
             [
              0.4444444444444444,
              "#bd3786"
             ],
             [
              0.5555555555555556,
              "#d8576b"
             ],
             [
              0.6666666666666666,
              "#ed7953"
             ],
             [
              0.7777777777777778,
              "#fb9f3a"
             ],
             [
              0.8888888888888888,
              "#fdca26"
             ],
             [
              1,
              "#f0f921"
             ]
            ],
            "type": "histogram2dcontour"
           }
          ],
          "mesh3d": [
           {
            "colorbar": {
             "outlinewidth": 0,
             "ticks": ""
            },
            "type": "mesh3d"
           }
          ],
          "parcoords": [
           {
            "line": {
             "colorbar": {
              "outlinewidth": 0,
              "ticks": ""
             }
            },
            "type": "parcoords"
           }
          ],
          "pie": [
           {
            "automargin": true,
            "type": "pie"
           }
          ],
          "scatter": [
           {
            "marker": {
             "colorbar": {
              "outlinewidth": 0,
              "ticks": ""
             }
            },
            "type": "scatter"
           }
          ],
          "scatter3d": [
           {
            "line": {
             "colorbar": {
              "outlinewidth": 0,
              "ticks": ""
             }
            },
            "marker": {
             "colorbar": {
              "outlinewidth": 0,
              "ticks": ""
             }
            },
            "type": "scatter3d"
           }
          ],
          "scattercarpet": [
           {
            "marker": {
             "colorbar": {
              "outlinewidth": 0,
              "ticks": ""
             }
            },
            "type": "scattercarpet"
           }
          ],
          "scattergeo": [
           {
            "marker": {
             "colorbar": {
              "outlinewidth": 0,
              "ticks": ""
             }
            },
            "type": "scattergeo"
           }
          ],
          "scattergl": [
           {
            "marker": {
             "colorbar": {
              "outlinewidth": 0,
              "ticks": ""
             }
            },
            "type": "scattergl"
           }
          ],
          "scattermapbox": [
           {
            "marker": {
             "colorbar": {
              "outlinewidth": 0,
              "ticks": ""
             }
            },
            "type": "scattermapbox"
           }
          ],
          "scatterpolar": [
           {
            "marker": {
             "colorbar": {
              "outlinewidth": 0,
              "ticks": ""
             }
            },
            "type": "scatterpolar"
           }
          ],
          "scatterpolargl": [
           {
            "marker": {
             "colorbar": {
              "outlinewidth": 0,
              "ticks": ""
             }
            },
            "type": "scatterpolargl"
           }
          ],
          "scatterternary": [
           {
            "marker": {
             "colorbar": {
              "outlinewidth": 0,
              "ticks": ""
             }
            },
            "type": "scatterternary"
           }
          ],
          "surface": [
           {
            "colorbar": {
             "outlinewidth": 0,
             "ticks": ""
            },
            "colorscale": [
             [
              0,
              "#0d0887"
             ],
             [
              0.1111111111111111,
              "#46039f"
             ],
             [
              0.2222222222222222,
              "#7201a8"
             ],
             [
              0.3333333333333333,
              "#9c179e"
             ],
             [
              0.4444444444444444,
              "#bd3786"
             ],
             [
              0.5555555555555556,
              "#d8576b"
             ],
             [
              0.6666666666666666,
              "#ed7953"
             ],
             [
              0.7777777777777778,
              "#fb9f3a"
             ],
             [
              0.8888888888888888,
              "#fdca26"
             ],
             [
              1,
              "#f0f921"
             ]
            ],
            "type": "surface"
           }
          ],
          "table": [
           {
            "cells": {
             "fill": {
              "color": "#EBF0F8"
             },
             "line": {
              "color": "white"
             }
            },
            "header": {
             "fill": {
              "color": "#C8D4E3"
             },
             "line": {
              "color": "white"
             }
            },
            "type": "table"
           }
          ]
         },
         "layout": {
          "annotationdefaults": {
           "arrowcolor": "#2a3f5f",
           "arrowhead": 0,
           "arrowwidth": 1
          },
          "coloraxis": {
           "colorbar": {
            "outlinewidth": 0,
            "ticks": ""
           }
          },
          "colorscale": {
           "diverging": [
            [
             0,
             "#8e0152"
            ],
            [
             0.1,
             "#c51b7d"
            ],
            [
             0.2,
             "#de77ae"
            ],
            [
             0.3,
             "#f1b6da"
            ],
            [
             0.4,
             "#fde0ef"
            ],
            [
             0.5,
             "#f7f7f7"
            ],
            [
             0.6,
             "#e6f5d0"
            ],
            [
             0.7,
             "#b8e186"
            ],
            [
             0.8,
             "#7fbc41"
            ],
            [
             0.9,
             "#4d9221"
            ],
            [
             1,
             "#276419"
            ]
           ],
           "sequential": [
            [
             0,
             "#0d0887"
            ],
            [
             0.1111111111111111,
             "#46039f"
            ],
            [
             0.2222222222222222,
             "#7201a8"
            ],
            [
             0.3333333333333333,
             "#9c179e"
            ],
            [
             0.4444444444444444,
             "#bd3786"
            ],
            [
             0.5555555555555556,
             "#d8576b"
            ],
            [
             0.6666666666666666,
             "#ed7953"
            ],
            [
             0.7777777777777778,
             "#fb9f3a"
            ],
            [
             0.8888888888888888,
             "#fdca26"
            ],
            [
             1,
             "#f0f921"
            ]
           ],
           "sequentialminus": [
            [
             0,
             "#0d0887"
            ],
            [
             0.1111111111111111,
             "#46039f"
            ],
            [
             0.2222222222222222,
             "#7201a8"
            ],
            [
             0.3333333333333333,
             "#9c179e"
            ],
            [
             0.4444444444444444,
             "#bd3786"
            ],
            [
             0.5555555555555556,
             "#d8576b"
            ],
            [
             0.6666666666666666,
             "#ed7953"
            ],
            [
             0.7777777777777778,
             "#fb9f3a"
            ],
            [
             0.8888888888888888,
             "#fdca26"
            ],
            [
             1,
             "#f0f921"
            ]
           ]
          },
          "colorway": [
           "#636efa",
           "#EF553B",
           "#00cc96",
           "#ab63fa",
           "#FFA15A",
           "#19d3f3",
           "#FF6692",
           "#B6E880",
           "#FF97FF",
           "#FECB52"
          ],
          "font": {
           "color": "#2a3f5f"
          },
          "geo": {
           "bgcolor": "white",
           "lakecolor": "white",
           "landcolor": "#E5ECF6",
           "showlakes": true,
           "showland": true,
           "subunitcolor": "white"
          },
          "hoverlabel": {
           "align": "left"
          },
          "hovermode": "closest",
          "mapbox": {
           "style": "light"
          },
          "paper_bgcolor": "white",
          "plot_bgcolor": "#E5ECF6",
          "polar": {
           "angularaxis": {
            "gridcolor": "white",
            "linecolor": "white",
            "ticks": ""
           },
           "bgcolor": "#E5ECF6",
           "radialaxis": {
            "gridcolor": "white",
            "linecolor": "white",
            "ticks": ""
           }
          },
          "scene": {
           "xaxis": {
            "backgroundcolor": "#E5ECF6",
            "gridcolor": "white",
            "gridwidth": 2,
            "linecolor": "white",
            "showbackground": true,
            "ticks": "",
            "zerolinecolor": "white"
           },
           "yaxis": {
            "backgroundcolor": "#E5ECF6",
            "gridcolor": "white",
            "gridwidth": 2,
            "linecolor": "white",
            "showbackground": true,
            "ticks": "",
            "zerolinecolor": "white"
           },
           "zaxis": {
            "backgroundcolor": "#E5ECF6",
            "gridcolor": "white",
            "gridwidth": 2,
            "linecolor": "white",
            "showbackground": true,
            "ticks": "",
            "zerolinecolor": "white"
           }
          },
          "shapedefaults": {
           "line": {
            "color": "#2a3f5f"
           }
          },
          "ternary": {
           "aaxis": {
            "gridcolor": "white",
            "linecolor": "white",
            "ticks": ""
           },
           "baxis": {
            "gridcolor": "white",
            "linecolor": "white",
            "ticks": ""
           },
           "bgcolor": "#E5ECF6",
           "caxis": {
            "gridcolor": "white",
            "linecolor": "white",
            "ticks": ""
           }
          },
          "title": {
           "x": 0.05
          },
          "xaxis": {
           "automargin": true,
           "gridcolor": "white",
           "linecolor": "white",
           "ticks": "",
           "title": {
            "standoff": 15
           },
           "zerolinecolor": "white",
           "zerolinewidth": 2
          },
          "yaxis": {
           "automargin": true,
           "gridcolor": "white",
           "linecolor": "white",
           "ticks": "",
           "title": {
            "standoff": 15
           },
           "zerolinecolor": "white",
           "zerolinewidth": 2
          }
         }
        }
       }
      },
      "text/html": [
       "<div>\n",
       "        \n",
       "        \n",
       "            <div id=\"9332ec83-c293-4de4-ab4f-caea1c0f8df3\" class=\"plotly-graph-div\" style=\"height:525px; width:100%;\"></div>\n",
       "            <script type=\"text/javascript\">\n",
       "                require([\"plotly\"], function(Plotly) {\n",
       "                    window.PLOTLYENV=window.PLOTLYENV || {};\n",
       "                    \n",
       "                if (document.getElementById(\"9332ec83-c293-4de4-ab4f-caea1c0f8df3\")) {\n",
       "                    Plotly.newPlot(\n",
       "                        '9332ec83-c293-4de4-ab4f-caea1c0f8df3',\n",
       "                        [{\"colorbar\": {\"title\": {\"text\": \"Voting-Age Population (VAP) per state\"}}, \"locationmode\": \"USA-states\", \"locations\": [\"AL\", \"AK\", \"AZ\", \"AR\", \"CA\", \"CO\", \"CT\", \"DE\", \"District of Columbia\", \"FL\", \"GA\", \"HI\", \"ID\", \"IL\", \"IN\", \"IA\", \"KS\", \"KY\", \"LA\", \"ME\", \"MD\", \"MA\", \"MI\", \"MN\", \"MS\", \"MO\", \"MT\", \"NE\", \"NV\", \"NH\", \"NJ\", \"NM\", \"NY\", \"NC\", \"ND\", \"OH\", \"OK\", \"OR\", \"PA\", \"RI\", \"SC\", \"SD\", \"TN\", \"TX\", \"UT\", \"VT\", \"VA\", \"WA\", \"WV\", \"WI\", \"WY\"], \"text\": [\"Alabama\", \"Alaska\", \"Arizona\", \"Arkansas\", \"California\", \"Colorado\", \"Connecticut\", \"Delaware\", \"District of Columbia\", \"Florida\", \"Georgia\", \"Hawaii\", \"Idaho\", \"Illinois\", \"Indiana\", \"Iowa\", \"Kansas\", \"Kentucky\", \"Louisiana\", \"Maine\", \"Maryland\", \"Massachusetts\", \"Michigan\", \"Minnesota\", \"Mississippi\", \"Missouri\", \"Montana\", \"Nebraska\", \"Nevada\", \"New Hampshire\", \"New Jersey\", \"New Mexico\", \"New York\", \"North Carolina\", \"North Dakota\", \"Ohio\", \"Oklahoma\", \"Oregon\", \"Pennsylvania\", \"Rhode Island\", \"South Carolina\", \"South Dakota\", \"Tennessee\", \"Texas\", \"Utah\", \"Vermont\", \"Virginia\", \"Washington\", \"West Virginia\", \"Wisconsin\", \"Wyoming\"], \"type\": \"choropleth\", \"z\": [3707440.0, 543763.0, 4959270.0, 2242740.0, 28913129.0, 3981208.0, 2801375.0, 715708.0, 528848.0, 15380947.0, 7452696.0, 1088335.0, 1173727.0, 9827043.0, 4960376.0, 2356209.0, 2162442.0, 3368684.0, 3495847.0, 1064779.0, 4553853.0, 5263550.0, 7625576.0, 4114820.0, 2246931.0, 4628500.0, 785454.0, 1396507.0, 2105976.0, 1047978.0, 6847503.0, 1573400.0, 15344671.0, 7496980.0, 549955.0, 8896930.0, 2885093.0, 3050747.0, 10037099.0, 834983.0, 3662322.0, 631472.0, 4976284.0, 19185395.0, 1978956.0, 502242.0, 6348827.0, 5329782.0, 1472642.0, 4417273.0, 441726.0]}],\n",
       "                        {\"geo\": {\"scope\": \"usa\"}, \"template\": {\"data\": {\"bar\": [{\"error_x\": {\"color\": \"#2a3f5f\"}, \"error_y\": {\"color\": \"#2a3f5f\"}, \"marker\": {\"line\": {\"color\": \"#E5ECF6\", \"width\": 0.5}}, \"type\": \"bar\"}], \"barpolar\": [{\"marker\": {\"line\": {\"color\": \"#E5ECF6\", \"width\": 0.5}}, \"type\": \"barpolar\"}], \"carpet\": [{\"aaxis\": {\"endlinecolor\": \"#2a3f5f\", \"gridcolor\": \"white\", \"linecolor\": \"white\", \"minorgridcolor\": \"white\", \"startlinecolor\": \"#2a3f5f\"}, \"baxis\": {\"endlinecolor\": \"#2a3f5f\", \"gridcolor\": \"white\", \"linecolor\": \"white\", \"minorgridcolor\": \"white\", \"startlinecolor\": \"#2a3f5f\"}, \"type\": \"carpet\"}], \"choropleth\": [{\"colorbar\": {\"outlinewidth\": 0, \"ticks\": \"\"}, \"type\": \"choropleth\"}], \"contour\": [{\"colorbar\": {\"outlinewidth\": 0, \"ticks\": \"\"}, \"colorscale\": [[0.0, \"#0d0887\"], [0.1111111111111111, \"#46039f\"], [0.2222222222222222, \"#7201a8\"], [0.3333333333333333, \"#9c179e\"], [0.4444444444444444, \"#bd3786\"], [0.5555555555555556, \"#d8576b\"], [0.6666666666666666, \"#ed7953\"], [0.7777777777777778, \"#fb9f3a\"], [0.8888888888888888, \"#fdca26\"], [1.0, \"#f0f921\"]], \"type\": \"contour\"}], \"contourcarpet\": [{\"colorbar\": {\"outlinewidth\": 0, \"ticks\": \"\"}, \"type\": \"contourcarpet\"}], \"heatmap\": [{\"colorbar\": {\"outlinewidth\": 0, \"ticks\": \"\"}, \"colorscale\": [[0.0, \"#0d0887\"], [0.1111111111111111, \"#46039f\"], [0.2222222222222222, \"#7201a8\"], [0.3333333333333333, \"#9c179e\"], [0.4444444444444444, \"#bd3786\"], [0.5555555555555556, \"#d8576b\"], [0.6666666666666666, \"#ed7953\"], [0.7777777777777778, \"#fb9f3a\"], [0.8888888888888888, \"#fdca26\"], [1.0, \"#f0f921\"]], \"type\": \"heatmap\"}], \"heatmapgl\": [{\"colorbar\": {\"outlinewidth\": 0, \"ticks\": \"\"}, \"colorscale\": [[0.0, \"#0d0887\"], [0.1111111111111111, \"#46039f\"], [0.2222222222222222, \"#7201a8\"], [0.3333333333333333, \"#9c179e\"], [0.4444444444444444, \"#bd3786\"], [0.5555555555555556, \"#d8576b\"], [0.6666666666666666, \"#ed7953\"], [0.7777777777777778, \"#fb9f3a\"], [0.8888888888888888, \"#fdca26\"], [1.0, \"#f0f921\"]], \"type\": \"heatmapgl\"}], \"histogram\": [{\"marker\": {\"colorbar\": {\"outlinewidth\": 0, \"ticks\": \"\"}}, \"type\": \"histogram\"}], \"histogram2d\": [{\"colorbar\": {\"outlinewidth\": 0, \"ticks\": \"\"}, \"colorscale\": [[0.0, \"#0d0887\"], [0.1111111111111111, \"#46039f\"], [0.2222222222222222, \"#7201a8\"], [0.3333333333333333, \"#9c179e\"], [0.4444444444444444, \"#bd3786\"], [0.5555555555555556, \"#d8576b\"], [0.6666666666666666, \"#ed7953\"], [0.7777777777777778, \"#fb9f3a\"], [0.8888888888888888, \"#fdca26\"], [1.0, \"#f0f921\"]], \"type\": \"histogram2d\"}], \"histogram2dcontour\": [{\"colorbar\": {\"outlinewidth\": 0, \"ticks\": \"\"}, \"colorscale\": [[0.0, \"#0d0887\"], [0.1111111111111111, \"#46039f\"], [0.2222222222222222, \"#7201a8\"], [0.3333333333333333, \"#9c179e\"], [0.4444444444444444, \"#bd3786\"], [0.5555555555555556, \"#d8576b\"], [0.6666666666666666, \"#ed7953\"], [0.7777777777777778, \"#fb9f3a\"], [0.8888888888888888, \"#fdca26\"], [1.0, \"#f0f921\"]], \"type\": \"histogram2dcontour\"}], \"mesh3d\": [{\"colorbar\": {\"outlinewidth\": 0, \"ticks\": \"\"}, \"type\": \"mesh3d\"}], \"parcoords\": [{\"line\": {\"colorbar\": {\"outlinewidth\": 0, \"ticks\": \"\"}}, \"type\": \"parcoords\"}], \"pie\": [{\"automargin\": true, \"type\": \"pie\"}], \"scatter\": [{\"marker\": {\"colorbar\": {\"outlinewidth\": 0, \"ticks\": \"\"}}, \"type\": \"scatter\"}], \"scatter3d\": [{\"line\": {\"colorbar\": {\"outlinewidth\": 0, \"ticks\": \"\"}}, \"marker\": {\"colorbar\": {\"outlinewidth\": 0, \"ticks\": \"\"}}, \"type\": \"scatter3d\"}], \"scattercarpet\": [{\"marker\": {\"colorbar\": {\"outlinewidth\": 0, \"ticks\": \"\"}}, \"type\": \"scattercarpet\"}], \"scattergeo\": [{\"marker\": {\"colorbar\": {\"outlinewidth\": 0, \"ticks\": \"\"}}, \"type\": \"scattergeo\"}], \"scattergl\": [{\"marker\": {\"colorbar\": {\"outlinewidth\": 0, \"ticks\": \"\"}}, \"type\": \"scattergl\"}], \"scattermapbox\": [{\"marker\": {\"colorbar\": {\"outlinewidth\": 0, \"ticks\": \"\"}}, \"type\": \"scattermapbox\"}], \"scatterpolar\": [{\"marker\": {\"colorbar\": {\"outlinewidth\": 0, \"ticks\": \"\"}}, \"type\": \"scatterpolar\"}], \"scatterpolargl\": [{\"marker\": {\"colorbar\": {\"outlinewidth\": 0, \"ticks\": \"\"}}, \"type\": \"scatterpolargl\"}], \"scatterternary\": [{\"marker\": {\"colorbar\": {\"outlinewidth\": 0, \"ticks\": \"\"}}, \"type\": \"scatterternary\"}], \"surface\": [{\"colorbar\": {\"outlinewidth\": 0, \"ticks\": \"\"}, \"colorscale\": [[0.0, \"#0d0887\"], [0.1111111111111111, \"#46039f\"], [0.2222222222222222, \"#7201a8\"], [0.3333333333333333, \"#9c179e\"], [0.4444444444444444, \"#bd3786\"], [0.5555555555555556, \"#d8576b\"], [0.6666666666666666, \"#ed7953\"], [0.7777777777777778, \"#fb9f3a\"], [0.8888888888888888, \"#fdca26\"], [1.0, \"#f0f921\"]], \"type\": \"surface\"}], \"table\": [{\"cells\": {\"fill\": {\"color\": \"#EBF0F8\"}, \"line\": {\"color\": \"white\"}}, \"header\": {\"fill\": {\"color\": \"#C8D4E3\"}, \"line\": {\"color\": \"white\"}}, \"type\": \"table\"}]}, \"layout\": {\"annotationdefaults\": {\"arrowcolor\": \"#2a3f5f\", \"arrowhead\": 0, \"arrowwidth\": 1}, \"coloraxis\": {\"colorbar\": {\"outlinewidth\": 0, \"ticks\": \"\"}}, \"colorscale\": {\"diverging\": [[0, \"#8e0152\"], [0.1, \"#c51b7d\"], [0.2, \"#de77ae\"], [0.3, \"#f1b6da\"], [0.4, \"#fde0ef\"], [0.5, \"#f7f7f7\"], [0.6, \"#e6f5d0\"], [0.7, \"#b8e186\"], [0.8, \"#7fbc41\"], [0.9, \"#4d9221\"], [1, \"#276419\"]], \"sequential\": [[0.0, \"#0d0887\"], [0.1111111111111111, \"#46039f\"], [0.2222222222222222, \"#7201a8\"], [0.3333333333333333, \"#9c179e\"], [0.4444444444444444, \"#bd3786\"], [0.5555555555555556, \"#d8576b\"], [0.6666666666666666, \"#ed7953\"], [0.7777777777777778, \"#fb9f3a\"], [0.8888888888888888, \"#fdca26\"], [1.0, \"#f0f921\"]], \"sequentialminus\": [[0.0, \"#0d0887\"], [0.1111111111111111, \"#46039f\"], [0.2222222222222222, \"#7201a8\"], [0.3333333333333333, \"#9c179e\"], [0.4444444444444444, \"#bd3786\"], [0.5555555555555556, \"#d8576b\"], [0.6666666666666666, \"#ed7953\"], [0.7777777777777778, \"#fb9f3a\"], [0.8888888888888888, \"#fdca26\"], [1.0, \"#f0f921\"]]}, \"colorway\": [\"#636efa\", \"#EF553B\", \"#00cc96\", \"#ab63fa\", \"#FFA15A\", \"#19d3f3\", \"#FF6692\", \"#B6E880\", \"#FF97FF\", \"#FECB52\"], \"font\": {\"color\": \"#2a3f5f\"}, \"geo\": {\"bgcolor\": \"white\", \"lakecolor\": \"white\", \"landcolor\": \"#E5ECF6\", \"showlakes\": true, \"showland\": true, \"subunitcolor\": \"white\"}, \"hoverlabel\": {\"align\": \"left\"}, \"hovermode\": \"closest\", \"mapbox\": {\"style\": \"light\"}, \"paper_bgcolor\": \"white\", \"plot_bgcolor\": \"#E5ECF6\", \"polar\": {\"angularaxis\": {\"gridcolor\": \"white\", \"linecolor\": \"white\", \"ticks\": \"\"}, \"bgcolor\": \"#E5ECF6\", \"radialaxis\": {\"gridcolor\": \"white\", \"linecolor\": \"white\", \"ticks\": \"\"}}, \"scene\": {\"xaxis\": {\"backgroundcolor\": \"#E5ECF6\", \"gridcolor\": \"white\", \"gridwidth\": 2, \"linecolor\": \"white\", \"showbackground\": true, \"ticks\": \"\", \"zerolinecolor\": \"white\"}, \"yaxis\": {\"backgroundcolor\": \"#E5ECF6\", \"gridcolor\": \"white\", \"gridwidth\": 2, \"linecolor\": \"white\", \"showbackground\": true, \"ticks\": \"\", \"zerolinecolor\": \"white\"}, \"zaxis\": {\"backgroundcolor\": \"#E5ECF6\", \"gridcolor\": \"white\", \"gridwidth\": 2, \"linecolor\": \"white\", \"showbackground\": true, \"ticks\": \"\", \"zerolinecolor\": \"white\"}}, \"shapedefaults\": {\"line\": {\"color\": \"#2a3f5f\"}}, \"ternary\": {\"aaxis\": {\"gridcolor\": \"white\", \"linecolor\": \"white\", \"ticks\": \"\"}, \"baxis\": {\"gridcolor\": \"white\", \"linecolor\": \"white\", \"ticks\": \"\"}, \"bgcolor\": \"#E5ECF6\", \"caxis\": {\"gridcolor\": \"white\", \"linecolor\": \"white\", \"ticks\": \"\"}}, \"title\": {\"x\": 0.05}, \"xaxis\": {\"automargin\": true, \"gridcolor\": \"white\", \"linecolor\": \"white\", \"ticks\": \"\", \"title\": {\"standoff\": 15}, \"zerolinecolor\": \"white\", \"zerolinewidth\": 2}, \"yaxis\": {\"automargin\": true, \"gridcolor\": \"white\", \"linecolor\": \"white\", \"ticks\": \"\", \"title\": {\"standoff\": 15}, \"zerolinecolor\": \"white\", \"zerolinewidth\": 2}}}},\n",
       "                        {\"responsive\": true}\n",
       "                    ).then(function(){\n",
       "                            \n",
       "var gd = document.getElementById('9332ec83-c293-4de4-ab4f-caea1c0f8df3');\n",
       "var x = new MutationObserver(function (mutations, observer) {{\n",
       "        var display = window.getComputedStyle(gd).display;\n",
       "        if (!display || display === 'none') {{\n",
       "            console.log([gd, 'removed!']);\n",
       "            Plotly.purge(gd);\n",
       "            observer.disconnect();\n",
       "        }}\n",
       "}});\n",
       "\n",
       "// Listen for the removal of the full notebook cells\n",
       "var notebookContainer = gd.closest('#notebook-container');\n",
       "if (notebookContainer) {{\n",
       "    x.observe(notebookContainer, {childList: true});\n",
       "}}\n",
       "\n",
       "// Listen for the clearing of the current output cell\n",
       "var outputEl = gd.closest('.output');\n",
       "if (outputEl) {{\n",
       "    x.observe(outputEl, {childList: true});\n",
       "}}\n",
       "\n",
       "                        })\n",
       "                };\n",
       "                });\n",
       "            </script>\n",
       "        </div>"
      ]
     },
     "metadata": {},
     "output_type": "display_data"
    }
   ],
   "source": [
    "choromap = go.Figure(data = [data1],layout = layout)\n",
    "iplot(choromap,validate=False)"
   ]
  },
  {
   "cell_type": "markdown",
   "metadata": {},
   "source": [
    "# Great Job!"
   ]
  }
 ],
 "metadata": {
  "kernelspec": {
   "display_name": "Python 3",
   "language": "python",
   "name": "python3"
  },
  "language_info": {
   "codemirror_mode": {
    "name": "ipython",
    "version": 3
   },
   "file_extension": ".py",
   "mimetype": "text/x-python",
   "name": "python",
   "nbconvert_exporter": "python",
   "pygments_lexer": "ipython3",
   "version": "3.7.6"
  }
 },
 "nbformat": 4,
 "nbformat_minor": 1
}
